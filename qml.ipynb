{
 "cells": [
  {
   "cell_type": "code",
   "execution_count": 42,
   "id": "924fbc4e",
   "metadata": {},
   "outputs": [],
   "source": [
    "from qiskit_nature.problems.sampling.protein_folding.interactions.random_interaction import (\n",
    "    RandomInteraction,\n",
    ")\n",
    "from qiskit_nature.problems.sampling.protein_folding.interactions.miyazawa_jernigan_interaction import (\n",
    "    MiyazawaJerniganInteraction,\n",
    ")\n",
    "from qiskit_nature.problems.sampling.protein_folding.peptide.peptide import Peptide\n",
    "from qiskit_nature.problems.sampling.protein_folding.protein_folding_problem import (\n",
    "    ProteinFoldingProblem,\n",
    ")\n",
    "\n",
    "from qiskit_nature.problems.sampling.protein_folding.penalty_parameters import PenaltyParameters\n",
    "\n",
    "from qiskit.utils import algorithm_globals, QuantumInstance\n",
    "\n",
    "algorithm_globals.random_seed = 23"
   ]
  },
  {
   "cell_type": "code",
   "execution_count": 48,
   "id": "393bb56f",
   "metadata": {},
   "outputs": [],
   "source": [
    "import pennylane as qml\n",
    "\n",
    "def hamiltonian_from_qiskit(sum_op):\n",
    "\n",
    "\t'''\n",
    "\tThis function takes a qiskit.PauliSumOp as input and\n",
    "\tgives back a Pennylane Hamiltonian as output\n",
    "\n",
    "\tsum_op  = qiskit.PauliSumOp\n",
    "\n",
    "\t'''\n",
    "\top      = sum_op.primitive.to_list()\n",
    "\tn_terms = len(op)\n",
    "\tcoeffs  = []\n",
    "\tpaulis  = []\n",
    "\n",
    "\tfor i in range(n_terms):\n",
    "\t\tpaulis.append(qml.grouping.string_to_pauli_word(op[i][0]))\n",
    "\t\tcoeffs.append(op[i][1].real)\n",
    "\n",
    "\tp_op = qml.Hamiltonian(coeffs,paulis)\n",
    "\n",
    "\treturn p_op"
   ]
  },
  {
   "cell_type": "code",
   "execution_count": 230,
   "id": "016446ce",
   "metadata": {},
   "outputs": [],
   "source": [
    "#main_chain = \"YPYFIP\"\n",
    "#side_chains = [\"\",\"I\",\"P\",\"F\",\"Y\",\"\"] \n",
    "main_chain = \"YFIP\"\n",
    "side_chains = [\"\",\"F\",\"Y\",\"\"] "
   ]
  },
  {
   "cell_type": "code",
   "execution_count": 231,
   "id": "2fa3eb17",
   "metadata": {},
   "outputs": [],
   "source": [
    "random_interaction = RandomInteraction()\n",
    "mj_interaction = MiyazawaJerniganInteraction()"
   ]
  },
  {
   "cell_type": "code",
   "execution_count": 232,
   "id": "9429bf96",
   "metadata": {},
   "outputs": [],
   "source": [
    "penalty_back = 10\n",
    "penalty_chiral = 10\n",
    "penalty_1 = 10\n",
    "\n",
    "penalty_terms = PenaltyParameters(penalty_chiral, penalty_back, penalty_1)"
   ]
  },
  {
   "cell_type": "code",
   "execution_count": 233,
   "id": "cd1200b5",
   "metadata": {},
   "outputs": [],
   "source": [
    "peptide = Peptide(main_chain, side_chains)"
   ]
  },
  {
   "cell_type": "code",
   "execution_count": 234,
   "id": "3a721ba8",
   "metadata": {},
   "outputs": [],
   "source": [
    "protein_folding_problem = ProteinFoldingProblem(peptide, mj_interaction, penalty_terms)\n",
    "qubit_op = protein_folding_problem.qubit_op()\n",
    "\n"
   ]
  },
  {
   "cell_type": "code",
   "execution_count": 236,
   "id": "5f667339",
   "metadata": {},
   "outputs": [],
   "source": [
    "cost_h=hamiltonian_from_qiskit(qubit_op)\n",
    "mixer_h=qml.qaoa.x_mixer(wires=range(0,6,1))"
   ]
  },
  {
   "cell_type": "code",
   "execution_count": 237,
   "id": "0a6071be",
   "metadata": {},
   "outputs": [
    {
     "name": "stdout",
     "output_type": "stream",
     "text": [
      "Cost Hamiltonian:\n",
      "   (0.625) [Z5]\n",
      "+ (0.625) [Z4]\n",
      "+ (0.625) [Z0]\n",
      "+ (0.625) [Z1]\n",
      "+ (2.5) [Z2]\n",
      "+ (2.5) [Z3]\n",
      "+ (15.625) [I0]\n",
      "+ (-2.5) [Z2 Z3]\n",
      "+ (-1.875) [Z1 Z4]\n",
      "+ (0.625) [Z4 Z5]\n",
      "+ (0.625) [Z0 Z4]\n",
      "+ (0.625) [Z0 Z5]\n",
      "+ (0.625) [Z1 Z5]\n",
      "+ (0.625) [Z0 Z1]\n",
      "+ (-1.875) [Z0 Z4 Z5]\n",
      "+ (-1.875) [Z0 Z1 Z5]\n",
      "+ (0.625) [Z1 Z4 Z5]\n",
      "+ (0.625) [Z0 Z1 Z4]\n",
      "+ (0.625) [Z0 Z1 Z4 Z5]\n",
      "Mixer Hamiltonian:\n",
      "   (1) [X0]\n",
      "+ (1) [X1]\n",
      "+ (1) [X2]\n",
      "+ (1) [X3]\n",
      "+ (1) [X4]\n",
      "+ (1) [X5]\n"
     ]
    }
   ],
   "source": [
    "import pennylane as qml\n",
    "from pennylane import numpy as np\n",
    "\n",
    "#cost_h, mixer_h = qml.qaoa.max_clique(g, constrained=False)\n",
    "# constrained=True results in greater circuit depth but potentially better solutions\n",
    "\n",
    "print(\"Cost Hamiltonian:\\n\", cost_h)\n",
    "print(\"Mixer Hamiltonian:\\n\", mixer_h)"
   ]
  },
  {
   "cell_type": "code",
   "execution_count": 239,
   "id": "05b288cd",
   "metadata": {},
   "outputs": [],
   "source": [
    "n_nodes = 6"
   ]
  },
  {
   "cell_type": "code",
   "execution_count": 240,
   "id": "ebba0220",
   "metadata": {},
   "outputs": [],
   "source": [
    "def qaoa_layer(gamma, alpha):\n",
    "    qml.qaoa.cost_layer(gamma, cost_h)\n",
    "    qml.qaoa.mixer_layer(alpha, mixer_h)"
   ]
  },
  {
   "cell_type": "code",
   "execution_count": 241,
   "id": "6e74ef86",
   "metadata": {},
   "outputs": [],
   "source": [
    "n_layers = 1\n",
    "wires = range(n_nodes)\n",
    "\n",
    "def circuit(params, **kwargs):\n",
    "    for w in wires:  # Prepare an equal superposition over all qubits\n",
    "        qml.Hadamard(wires=w)\n",
    "        #print(w)\n",
    "        \n",
    "    qml.layer(qaoa_layer, n_layers, params[0], params[1])\n"
   ]
  },
  {
   "cell_type": "code",
   "execution_count": 242,
   "id": "044b10b2",
   "metadata": {},
   "outputs": [
    {
     "data": {
      "text/plain": [
       "tensor([[0.72511958],\n",
       "        [0.57312068]], requires_grad=True)"
      ]
     },
     "execution_count": 242,
     "metadata": {},
     "output_type": "execute_result"
    }
   ],
   "source": [
    "np.random.seed(1967)\n",
    "params = np.random.uniform(size=[2, n_layers])\n",
    "params"
   ]
  },
  {
   "cell_type": "code",
   "execution_count": 243,
   "id": "cd0968e3",
   "metadata": {},
   "outputs": [],
   "source": [
    "dev = qml.device(\"qulacs.simulator\", wires=wires)"
   ]
  },
  {
   "cell_type": "code",
   "execution_count": 244,
   "id": "c4bee781",
   "metadata": {},
   "outputs": [],
   "source": [
    "@qml.qnode(dev)\n",
    "def cost_function(params, **kwargs):\n",
    "    circuit(params=params)\n",
    "    return qml.expval(cost_h)\n",
    "\n",
    "def cvar_cost(params,shots,alpha):\n",
    "    h=[]\n",
    "    for i in range(shots):\n",
    "        h.append(cost_function(params=params))\n",
    "    h.sort()\n",
    "    return np.mean(h[:int(shots*alpha)])\n",
    "    \n",
    "    \n",
    "        "
   ]
  },
  {
   "cell_type": "code",
   "execution_count": 245,
   "id": "dbbf220d",
   "metadata": {},
   "outputs": [],
   "source": [
    "#import scipy\n",
    "#optimizer = qml.RotosolveOptimizer()\n",
    "optimizer = qml.GradientDescentOptimizer()\n"
   ]
  },
  {
   "cell_type": "code",
   "execution_count": 246,
   "id": "1a9e95c2",
   "metadata": {},
   "outputs": [
    {
     "name": "stdout",
     "output_type": "stream",
     "text": [
      "Initial cost: 17.407052624126937\n"
     ]
    }
   ],
   "source": [
    "print(\"Initial cost:\", cvar_cost(params,10,0.1))\n"
   ]
  },
  {
   "cell_type": "code",
   "execution_count": 229,
   "id": "c63a659e",
   "metadata": {},
   "outputs": [
    {
     "name": "stdout",
     "output_type": "stream",
     "text": [
      "Initial cost: 2225.2746125879944\n"
     ]
    },
    {
     "ename": "KeyboardInterrupt",
     "evalue": "",
     "output_type": "error",
     "traceback": [
      "\u001b[1;31m---------------------------------------------------------------------------\u001b[0m",
      "\u001b[1;31mKeyboardInterrupt\u001b[0m                         Traceback (most recent call last)",
      "Input \u001b[1;32mIn [229]\u001b[0m, in \u001b[0;36m<cell line: 3>\u001b[1;34m()\u001b[0m\n\u001b[0;32m      1\u001b[0m \u001b[38;5;28mprint\u001b[39m(\u001b[38;5;124m\"\u001b[39m\u001b[38;5;124mInitial cost:\u001b[39m\u001b[38;5;124m\"\u001b[39m, cost_function(params))\n\u001b[0;32m      3\u001b[0m \u001b[38;5;28;01mfor\u001b[39;00m i \u001b[38;5;129;01min\u001b[39;00m \u001b[38;5;28mrange\u001b[39m(\u001b[38;5;241m10\u001b[39m):\n\u001b[1;32m----> 4\u001b[0m     params \u001b[38;5;241m=\u001b[39m \u001b[43moptimizer\u001b[49m\u001b[38;5;241;43m.\u001b[39;49m\u001b[43mstep\u001b[49m\u001b[43m(\u001b[49m\u001b[43mcost_function\u001b[49m\u001b[43m,\u001b[49m\u001b[43m \u001b[49m\u001b[43mparams\u001b[49m\u001b[43m)\u001b[49m\n\u001b[0;32m      5\u001b[0m     cost_eval \u001b[38;5;241m=\u001b[39m cost_function(params)\n\u001b[0;32m      6\u001b[0m     \u001b[38;5;28mprint\u001b[39m(\u001b[38;5;124mf\u001b[39m\u001b[38;5;124m\"\u001b[39m\u001b[38;5;124mCompleted iteration \u001b[39m\u001b[38;5;132;01m{\u001b[39;00mi \u001b[38;5;241m+\u001b[39m \u001b[38;5;241m1\u001b[39m\u001b[38;5;132;01m}\u001b[39;00m\u001b[38;5;124m, cost function:\u001b[39m\u001b[38;5;124m\"\u001b[39m, cost_eval)\n",
      "File \u001b[1;32m~\\Anaconda3\\lib\\site-packages\\pennylane\\optimize\\gradient_descent.py:88\u001b[0m, in \u001b[0;36mGradientDescentOptimizer.step\u001b[1;34m(self, objective_fn, grad_fn, *args, **kwargs)\u001b[0m\n\u001b[0;32m     70\u001b[0m \u001b[38;5;28;01mdef\u001b[39;00m \u001b[38;5;21mstep\u001b[39m(\u001b[38;5;28mself\u001b[39m, objective_fn, \u001b[38;5;241m*\u001b[39margs, grad_fn\u001b[38;5;241m=\u001b[39m\u001b[38;5;28;01mNone\u001b[39;00m, \u001b[38;5;241m*\u001b[39m\u001b[38;5;241m*\u001b[39mkwargs):\n\u001b[0;32m     71\u001b[0m     \u001b[38;5;124;03m\"\"\"Update trainable arguments with one step of the optimizer.\u001b[39;00m\n\u001b[0;32m     72\u001b[0m \n\u001b[0;32m     73\u001b[0m \u001b[38;5;124;03m    Args:\u001b[39;00m\n\u001b[1;32m   (...)\u001b[0m\n\u001b[0;32m     85\u001b[0m \u001b[38;5;124;03m        If single arg is provided, list [array] is replaced by array.\u001b[39;00m\n\u001b[0;32m     86\u001b[0m \u001b[38;5;124;03m    \"\"\"\u001b[39;00m\n\u001b[1;32m---> 88\u001b[0m     g, _ \u001b[38;5;241m=\u001b[39m \u001b[38;5;28;43mself\u001b[39;49m\u001b[38;5;241;43m.\u001b[39;49m\u001b[43mcompute_grad\u001b[49m\u001b[43m(\u001b[49m\u001b[43mobjective_fn\u001b[49m\u001b[43m,\u001b[49m\u001b[43m \u001b[49m\u001b[43margs\u001b[49m\u001b[43m,\u001b[49m\u001b[43m \u001b[49m\u001b[43mkwargs\u001b[49m\u001b[43m,\u001b[49m\u001b[43m \u001b[49m\u001b[43mgrad_fn\u001b[49m\u001b[38;5;241;43m=\u001b[39;49m\u001b[43mgrad_fn\u001b[49m\u001b[43m)\u001b[49m\n\u001b[0;32m     89\u001b[0m     new_args \u001b[38;5;241m=\u001b[39m \u001b[38;5;28mself\u001b[39m\u001b[38;5;241m.\u001b[39mapply_grad(g, args)\n\u001b[0;32m     91\u001b[0m     \u001b[38;5;66;03m# unwrap from list if one argument, cleaner return\u001b[39;00m\n",
      "File \u001b[1;32m~\\Anaconda3\\lib\\site-packages\\pennylane\\optimize\\gradient_descent.py:117\u001b[0m, in \u001b[0;36mGradientDescentOptimizer.compute_grad\u001b[1;34m(objective_fn, args, kwargs, grad_fn)\u001b[0m\n\u001b[0;32m     99\u001b[0m \u001b[38;5;124mr\u001b[39m\u001b[38;5;124;03m\"\"\"Compute gradient of the objective function at the given point and return it along with\u001b[39;00m\n\u001b[0;32m    100\u001b[0m \u001b[38;5;124;03mthe objective function forward pass (if available).\u001b[39;00m\n\u001b[0;32m    101\u001b[0m \n\u001b[1;32m   (...)\u001b[0m\n\u001b[0;32m    114\u001b[0m \u001b[38;5;124;03m    will not be evaluted and instead ``None`` will be returned.\u001b[39;00m\n\u001b[0;32m    115\u001b[0m \u001b[38;5;124;03m\"\"\"\u001b[39;00m\n\u001b[0;32m    116\u001b[0m g \u001b[38;5;241m=\u001b[39m get_gradient(objective_fn) \u001b[38;5;28;01mif\u001b[39;00m grad_fn \u001b[38;5;129;01mis\u001b[39;00m \u001b[38;5;28;01mNone\u001b[39;00m \u001b[38;5;28;01melse\u001b[39;00m grad_fn\n\u001b[1;32m--> 117\u001b[0m grad \u001b[38;5;241m=\u001b[39m g(\u001b[38;5;241m*\u001b[39margs, \u001b[38;5;241m*\u001b[39m\u001b[38;5;241m*\u001b[39mkwargs)\n\u001b[0;32m    118\u001b[0m forward \u001b[38;5;241m=\u001b[39m \u001b[38;5;28mgetattr\u001b[39m(g, \u001b[38;5;124m\"\u001b[39m\u001b[38;5;124mforward\u001b[39m\u001b[38;5;124m\"\u001b[39m, \u001b[38;5;28;01mNone\u001b[39;00m)\n\u001b[0;32m    120\u001b[0m num_trainable_args \u001b[38;5;241m=\u001b[39m \u001b[38;5;28msum\u001b[39m(\u001b[38;5;28mgetattr\u001b[39m(arg, \u001b[38;5;124m\"\u001b[39m\u001b[38;5;124mrequires_grad\u001b[39m\u001b[38;5;124m\"\u001b[39m, \u001b[38;5;28;01mFalse\u001b[39;00m) \u001b[38;5;28;01mfor\u001b[39;00m arg \u001b[38;5;129;01min\u001b[39;00m args)\n",
      "File \u001b[1;32m~\\Anaconda3\\lib\\site-packages\\pennylane\\_grad.py:111\u001b[0m, in \u001b[0;36mgrad.__call__\u001b[1;34m(self, *args, **kwargs)\u001b[0m\n\u001b[0;32m    108\u001b[0m     \u001b[38;5;28mself\u001b[39m\u001b[38;5;241m.\u001b[39m_forward \u001b[38;5;241m=\u001b[39m \u001b[38;5;28mself\u001b[39m\u001b[38;5;241m.\u001b[39m_fun(\u001b[38;5;241m*\u001b[39margs, \u001b[38;5;241m*\u001b[39m\u001b[38;5;241m*\u001b[39mkwargs)\n\u001b[0;32m    109\u001b[0m     \u001b[38;5;28;01mreturn\u001b[39;00m ()\n\u001b[1;32m--> 111\u001b[0m grad_value, ans \u001b[38;5;241m=\u001b[39m grad_fn(\u001b[38;5;241m*\u001b[39margs, \u001b[38;5;241m*\u001b[39m\u001b[38;5;241m*\u001b[39mkwargs)\n\u001b[0;32m    112\u001b[0m \u001b[38;5;28mself\u001b[39m\u001b[38;5;241m.\u001b[39m_forward \u001b[38;5;241m=\u001b[39m ans\n\u001b[0;32m    114\u001b[0m \u001b[38;5;28;01mreturn\u001b[39;00m grad_value\n",
      "File \u001b[1;32m~\\Anaconda3\\lib\\site-packages\\autograd\\wrap_util.py:20\u001b[0m, in \u001b[0;36munary_to_nary.<locals>.nary_operator.<locals>.nary_f\u001b[1;34m(*args, **kwargs)\u001b[0m\n\u001b[0;32m     18\u001b[0m \u001b[38;5;28;01melse\u001b[39;00m:\n\u001b[0;32m     19\u001b[0m     x \u001b[38;5;241m=\u001b[39m \u001b[38;5;28mtuple\u001b[39m(args[i] \u001b[38;5;28;01mfor\u001b[39;00m i \u001b[38;5;129;01min\u001b[39;00m argnum)\n\u001b[1;32m---> 20\u001b[0m \u001b[38;5;28;01mreturn\u001b[39;00m unary_operator(unary_f, x, \u001b[38;5;241m*\u001b[39mnary_op_args, \u001b[38;5;241m*\u001b[39m\u001b[38;5;241m*\u001b[39mnary_op_kwargs)\n",
      "File \u001b[1;32m~\\Anaconda3\\lib\\site-packages\\pennylane\\_grad.py:137\u001b[0m, in \u001b[0;36mgrad._grad_with_forward\u001b[1;34m(fun, x)\u001b[0m\n\u001b[0;32m    131\u001b[0m \u001b[38;5;28;01mif\u001b[39;00m \u001b[38;5;129;01mnot\u001b[39;00m vspace(ans)\u001b[38;5;241m.\u001b[39msize \u001b[38;5;241m==\u001b[39m \u001b[38;5;241m1\u001b[39m:\n\u001b[0;32m    132\u001b[0m     \u001b[38;5;28;01mraise\u001b[39;00m \u001b[38;5;167;01mTypeError\u001b[39;00m(\n\u001b[0;32m    133\u001b[0m         \u001b[38;5;124m\"\u001b[39m\u001b[38;5;124mGrad only applies to real scalar-output functions. \u001b[39m\u001b[38;5;124m\"\u001b[39m\n\u001b[0;32m    134\u001b[0m         \u001b[38;5;124m\"\u001b[39m\u001b[38;5;124mTry jacobian, elementwise_grad or holomorphic_grad.\u001b[39m\u001b[38;5;124m\"\u001b[39m\n\u001b[0;32m    135\u001b[0m     )\n\u001b[1;32m--> 137\u001b[0m grad_value \u001b[38;5;241m=\u001b[39m \u001b[43mvjp\u001b[49m\u001b[43m(\u001b[49m\u001b[43mvspace\u001b[49m\u001b[43m(\u001b[49m\u001b[43mans\u001b[49m\u001b[43m)\u001b[49m\u001b[38;5;241;43m.\u001b[39;49m\u001b[43mones\u001b[49m\u001b[43m(\u001b[49m\u001b[43m)\u001b[49m\u001b[43m)\u001b[49m\n\u001b[0;32m    138\u001b[0m \u001b[38;5;28;01mreturn\u001b[39;00m grad_value, ans\n",
      "File \u001b[1;32m~\\Anaconda3\\lib\\site-packages\\autograd\\core.py:14\u001b[0m, in \u001b[0;36mmake_vjp.<locals>.vjp\u001b[1;34m(g)\u001b[0m\n\u001b[1;32m---> 14\u001b[0m \u001b[38;5;28;01mdef\u001b[39;00m \u001b[38;5;21mvjp\u001b[39m(g): \u001b[38;5;28;01mreturn\u001b[39;00m \u001b[43mbackward_pass\u001b[49m\u001b[43m(\u001b[49m\u001b[43mg\u001b[49m\u001b[43m,\u001b[49m\u001b[43m \u001b[49m\u001b[43mend_node\u001b[49m\u001b[43m)\u001b[49m\n",
      "File \u001b[1;32m~\\Anaconda3\\lib\\site-packages\\autograd\\core.py:21\u001b[0m, in \u001b[0;36mbackward_pass\u001b[1;34m(g, end_node)\u001b[0m\n\u001b[0;32m     19\u001b[0m \u001b[38;5;28;01mfor\u001b[39;00m node \u001b[38;5;129;01min\u001b[39;00m toposort(end_node):\n\u001b[0;32m     20\u001b[0m     outgrad \u001b[38;5;241m=\u001b[39m outgrads\u001b[38;5;241m.\u001b[39mpop(node)\n\u001b[1;32m---> 21\u001b[0m     ingrads \u001b[38;5;241m=\u001b[39m \u001b[43mnode\u001b[49m\u001b[38;5;241;43m.\u001b[39;49m\u001b[43mvjp\u001b[49m\u001b[43m(\u001b[49m\u001b[43moutgrad\u001b[49m\u001b[43m[\u001b[49m\u001b[38;5;241;43m0\u001b[39;49m\u001b[43m]\u001b[49m\u001b[43m)\u001b[49m\n\u001b[0;32m     22\u001b[0m     \u001b[38;5;28;01mfor\u001b[39;00m parent, ingrad \u001b[38;5;129;01min\u001b[39;00m \u001b[38;5;28mzip\u001b[39m(node\u001b[38;5;241m.\u001b[39mparents, ingrads):\n\u001b[0;32m     23\u001b[0m         outgrads[parent] \u001b[38;5;241m=\u001b[39m add_outgrads(outgrads\u001b[38;5;241m.\u001b[39mget(parent), ingrad)\n",
      "File \u001b[1;32m~\\Anaconda3\\lib\\site-packages\\autograd\\core.py:67\u001b[0m, in \u001b[0;36mdefvjp.<locals>.vjp_argnums.<locals>.<lambda>\u001b[1;34m(g)\u001b[0m\n\u001b[0;32m     64\u001b[0m         \u001b[38;5;28;01mraise\u001b[39;00m \u001b[38;5;167;01mNotImplementedError\u001b[39;00m(\n\u001b[0;32m     65\u001b[0m             \u001b[38;5;124m\"\u001b[39m\u001b[38;5;124mVJP of \u001b[39m\u001b[38;5;132;01m{}\u001b[39;00m\u001b[38;5;124m wrt argnum 0 not defined\u001b[39m\u001b[38;5;124m\"\u001b[39m\u001b[38;5;241m.\u001b[39mformat(fun\u001b[38;5;241m.\u001b[39m\u001b[38;5;18m__name__\u001b[39m))\n\u001b[0;32m     66\u001b[0m     vjp \u001b[38;5;241m=\u001b[39m vjpfun(ans, \u001b[38;5;241m*\u001b[39margs, \u001b[38;5;241m*\u001b[39m\u001b[38;5;241m*\u001b[39mkwargs)\n\u001b[1;32m---> 67\u001b[0m     \u001b[38;5;28;01mreturn\u001b[39;00m \u001b[38;5;28;01mlambda\u001b[39;00m g: (\u001b[43mvjp\u001b[49m\u001b[43m(\u001b[49m\u001b[43mg\u001b[49m\u001b[43m)\u001b[49m,)\n\u001b[0;32m     68\u001b[0m \u001b[38;5;28;01melif\u001b[39;00m L \u001b[38;5;241m==\u001b[39m \u001b[38;5;241m2\u001b[39m:\n\u001b[0;32m     69\u001b[0m     argnum_0, argnum_1 \u001b[38;5;241m=\u001b[39m argnums\n",
      "File \u001b[1;32m~\\Anaconda3\\lib\\site-packages\\pennylane\\interfaces\\autograd.py:196\u001b[0m, in \u001b[0;36mvjp.<locals>.grad_fn\u001b[1;34m(dy)\u001b[0m\n\u001b[0;32m    187\u001b[0m     \u001b[38;5;28;01mwith\u001b[39;00m qml\u001b[38;5;241m.\u001b[39mtape\u001b[38;5;241m.\u001b[39mUnwrap(\u001b[38;5;241m*\u001b[39mtapes):\n\u001b[0;32m    188\u001b[0m         vjp_tapes, processing_fn \u001b[38;5;241m=\u001b[39m qml\u001b[38;5;241m.\u001b[39mgradients\u001b[38;5;241m.\u001b[39mbatch_vjp(\n\u001b[0;32m    189\u001b[0m             tapes,\n\u001b[0;32m    190\u001b[0m             dy,\n\u001b[1;32m   (...)\u001b[0m\n\u001b[0;32m    193\u001b[0m             gradient_kwargs\u001b[38;5;241m=\u001b[39mgradient_kwargs,\n\u001b[0;32m    194\u001b[0m         )\n\u001b[1;32m--> 196\u001b[0m         vjps \u001b[38;5;241m=\u001b[39m processing_fn(\u001b[43mexecute_fn\u001b[49m\u001b[43m(\u001b[49m\u001b[43mvjp_tapes\u001b[49m\u001b[43m)\u001b[49m[\u001b[38;5;241m0\u001b[39m])\n\u001b[0;32m    198\u001b[0m \u001b[38;5;28;01melse\u001b[39;00m:\n\u001b[0;32m    199\u001b[0m     vjp_tapes, processing_fn \u001b[38;5;241m=\u001b[39m qml\u001b[38;5;241m.\u001b[39mgradients\u001b[38;5;241m.\u001b[39mbatch_vjp(\n\u001b[0;32m    200\u001b[0m         tapes, dy, gradient_fn, reduction\u001b[38;5;241m=\u001b[39m\u001b[38;5;124m\"\u001b[39m\u001b[38;5;124mappend\u001b[39m\u001b[38;5;124m\"\u001b[39m, gradient_kwargs\u001b[38;5;241m=\u001b[39mgradient_kwargs\n\u001b[0;32m    201\u001b[0m     )\n",
      "File \u001b[1;32m~\\Anaconda3\\lib\\site-packages\\pennylane\\interfaces\\execution.py:165\u001b[0m, in \u001b[0;36mcache_execute.<locals>.wrapper\u001b[1;34m(tapes, **kwargs)\u001b[0m\n\u001b[0;32m    161\u001b[0m         \u001b[38;5;28;01mreturn\u001b[39;00m (res, []) \u001b[38;5;28;01mif\u001b[39;00m return_tuple \u001b[38;5;28;01melse\u001b[39;00m res\n\u001b[0;32m    163\u001b[0m \u001b[38;5;28;01melse\u001b[39;00m:\n\u001b[0;32m    164\u001b[0m     \u001b[38;5;66;03m# execute all unique tapes that do not exist in the cache\u001b[39;00m\n\u001b[1;32m--> 165\u001b[0m     res \u001b[38;5;241m=\u001b[39m fn(execution_tapes\u001b[38;5;241m.\u001b[39mvalues(), \u001b[38;5;241m*\u001b[39m\u001b[38;5;241m*\u001b[39mkwargs)\n\u001b[0;32m    167\u001b[0m final_res \u001b[38;5;241m=\u001b[39m []\n\u001b[0;32m    169\u001b[0m \u001b[38;5;28;01mfor\u001b[39;00m i, tape \u001b[38;5;129;01min\u001b[39;00m \u001b[38;5;28menumerate\u001b[39m(tapes):\n",
      "File \u001b[1;32m~\\Anaconda3\\lib\\site-packages\\pennylane\\interfaces\\execution.py:89\u001b[0m, in \u001b[0;36mcache_execute.<locals>.fn\u001b[1;34m(tapes, **kwargs)\u001b[0m\n\u001b[0;32m     88\u001b[0m \u001b[38;5;28;01mdef\u001b[39;00m \u001b[38;5;21mfn\u001b[39m(tapes, \u001b[38;5;241m*\u001b[39m\u001b[38;5;241m*\u001b[39mkwargs):  \u001b[38;5;66;03m# pylint: disable=function-redefined\u001b[39;00m\n\u001b[1;32m---> 89\u001b[0m     tapes \u001b[38;5;241m=\u001b[39m [expand_fn(tape) \u001b[38;5;28;01mfor\u001b[39;00m tape \u001b[38;5;129;01min\u001b[39;00m tapes]\n\u001b[0;32m     90\u001b[0m     \u001b[38;5;28;01mreturn\u001b[39;00m original_fn(tapes, \u001b[38;5;241m*\u001b[39m\u001b[38;5;241m*\u001b[39mkwargs)\n",
      "File \u001b[1;32m~\\Anaconda3\\lib\\site-packages\\pennylane\\interfaces\\execution.py:89\u001b[0m, in \u001b[0;36m<listcomp>\u001b[1;34m(.0)\u001b[0m\n\u001b[0;32m     88\u001b[0m \u001b[38;5;28;01mdef\u001b[39;00m \u001b[38;5;21mfn\u001b[39m(tapes, \u001b[38;5;241m*\u001b[39m\u001b[38;5;241m*\u001b[39mkwargs):  \u001b[38;5;66;03m# pylint: disable=function-redefined\u001b[39;00m\n\u001b[1;32m---> 89\u001b[0m     tapes \u001b[38;5;241m=\u001b[39m [\u001b[43mexpand_fn\u001b[49m\u001b[43m(\u001b[49m\u001b[43mtape\u001b[49m\u001b[43m)\u001b[49m \u001b[38;5;28;01mfor\u001b[39;00m tape \u001b[38;5;129;01min\u001b[39;00m tapes]\n\u001b[0;32m     90\u001b[0m     \u001b[38;5;28;01mreturn\u001b[39;00m original_fn(tapes, \u001b[38;5;241m*\u001b[39m\u001b[38;5;241m*\u001b[39mkwargs)\n",
      "File \u001b[1;32m~\\Anaconda3\\lib\\site-packages\\pennylane\\interfaces\\execution.py:318\u001b[0m, in \u001b[0;36mexecute.<locals>.<lambda>\u001b[1;34m(tape)\u001b[0m\n\u001b[0;32m    315\u001b[0m batch_execute \u001b[38;5;241m=\u001b[39m set_shots(device, override_shots)(device\u001b[38;5;241m.\u001b[39mbatch_execute)\n\u001b[0;32m    317\u001b[0m \u001b[38;5;28;01mif\u001b[39;00m expand_fn \u001b[38;5;241m==\u001b[39m \u001b[38;5;124m\"\u001b[39m\u001b[38;5;124mdevice\u001b[39m\u001b[38;5;124m\"\u001b[39m:\n\u001b[1;32m--> 318\u001b[0m     expand_fn \u001b[38;5;241m=\u001b[39m \u001b[38;5;28;01mlambda\u001b[39;00m tape: \u001b[43mdevice\u001b[49m\u001b[38;5;241;43m.\u001b[39;49m\u001b[43mexpand_fn\u001b[49m\u001b[43m(\u001b[49m\u001b[43mtape\u001b[49m\u001b[43m,\u001b[49m\u001b[43m \u001b[49m\u001b[43mmax_expansion\u001b[49m\u001b[38;5;241;43m=\u001b[39;49m\u001b[43mmax_expansion\u001b[49m\u001b[43m)\u001b[49m\n\u001b[0;32m    320\u001b[0m \u001b[38;5;28;01mif\u001b[39;00m gradient_fn \u001b[38;5;129;01mis\u001b[39;00m \u001b[38;5;28;01mNone\u001b[39;00m:\n\u001b[0;32m    321\u001b[0m     \u001b[38;5;66;03m# don't unwrap if it's an interface device\u001b[39;00m\n\u001b[0;32m    322\u001b[0m     \u001b[38;5;28;01mif\u001b[39;00m \u001b[38;5;124m\"\u001b[39m\u001b[38;5;124mpassthru_interface\u001b[39m\u001b[38;5;124m\"\u001b[39m \u001b[38;5;129;01min\u001b[39;00m device\u001b[38;5;241m.\u001b[39mcapabilities():\n",
      "File \u001b[1;32m~\\Anaconda3\\lib\\site-packages\\pennylane\\_device.py:680\u001b[0m, in \u001b[0;36mDevice.expand_fn\u001b[1;34m(self, circuit, max_expansion)\u001b[0m\n\u001b[0;32m    677\u001b[0m \u001b[38;5;28;01mif\u001b[39;00m \u001b[38;5;28mself\u001b[39m\u001b[38;5;241m.\u001b[39mcustom_expand_fn \u001b[38;5;129;01mis\u001b[39;00m \u001b[38;5;129;01mnot\u001b[39;00m \u001b[38;5;28;01mNone\u001b[39;00m:\n\u001b[0;32m    678\u001b[0m     \u001b[38;5;28;01mreturn\u001b[39;00m \u001b[38;5;28mself\u001b[39m\u001b[38;5;241m.\u001b[39mcustom_expand_fn(circuit, max_expansion\u001b[38;5;241m=\u001b[39mmax_expansion)\n\u001b[1;32m--> 680\u001b[0m \u001b[38;5;28;01mreturn\u001b[39;00m \u001b[38;5;28;43mself\u001b[39;49m\u001b[38;5;241;43m.\u001b[39;49m\u001b[43mdefault_expand_fn\u001b[49m\u001b[43m(\u001b[49m\u001b[43mcircuit\u001b[49m\u001b[43m,\u001b[49m\u001b[43m \u001b[49m\u001b[43mmax_expansion\u001b[49m\u001b[38;5;241;43m=\u001b[39;49m\u001b[43mmax_expansion\u001b[49m\u001b[43m)\u001b[49m\n",
      "File \u001b[1;32m~\\Anaconda3\\lib\\site-packages\\pennylane\\_device.py:655\u001b[0m, in \u001b[0;36mDevice.default_expand_fn\u001b[1;34m(self, circuit, max_expansion)\u001b[0m\n\u001b[0;32m    652\u001b[0m ops_not_supported \u001b[38;5;241m=\u001b[39m \u001b[38;5;129;01mnot\u001b[39;00m \u001b[38;5;28mall\u001b[39m(\u001b[38;5;28mself\u001b[39m\u001b[38;5;241m.\u001b[39mstopping_condition(op) \u001b[38;5;28;01mfor\u001b[39;00m op \u001b[38;5;129;01min\u001b[39;00m circuit\u001b[38;5;241m.\u001b[39moperations)\n\u001b[0;32m    654\u001b[0m \u001b[38;5;28;01mif\u001b[39;00m ops_not_supported \u001b[38;5;129;01mor\u001b[39;00m obs_on_same_wire:\n\u001b[1;32m--> 655\u001b[0m     circuit \u001b[38;5;241m=\u001b[39m \u001b[43mcircuit\u001b[49m\u001b[38;5;241;43m.\u001b[39;49m\u001b[43mexpand\u001b[49m\u001b[43m(\u001b[49m\u001b[43mdepth\u001b[49m\u001b[38;5;241;43m=\u001b[39;49m\u001b[43mmax_expansion\u001b[49m\u001b[43m,\u001b[49m\u001b[43m \u001b[49m\u001b[43mstop_at\u001b[49m\u001b[38;5;241;43m=\u001b[39;49m\u001b[38;5;28;43mself\u001b[39;49m\u001b[38;5;241;43m.\u001b[39;49m\u001b[43mstopping_condition\u001b[49m\u001b[43m)\u001b[49m\n\u001b[0;32m    657\u001b[0m \u001b[38;5;28;01mreturn\u001b[39;00m circuit\n",
      "File \u001b[1;32m~\\Anaconda3\\lib\\site-packages\\pennylane\\tape\\tape.py:627\u001b[0m, in \u001b[0;36mQuantumTape.expand\u001b[1;34m(self, depth, stop_at, expand_measurements)\u001b[0m\n\u001b[0;32m    579\u001b[0m \u001b[38;5;28;01mdef\u001b[39;00m \u001b[38;5;21mexpand\u001b[39m(\u001b[38;5;28mself\u001b[39m, depth\u001b[38;5;241m=\u001b[39m\u001b[38;5;241m1\u001b[39m, stop_at\u001b[38;5;241m=\u001b[39m\u001b[38;5;28;01mNone\u001b[39;00m, expand_measurements\u001b[38;5;241m=\u001b[39m\u001b[38;5;28;01mFalse\u001b[39;00m):\n\u001b[0;32m    580\u001b[0m     \u001b[38;5;124;03m\"\"\"Expand all operations in the processed queue to a specific depth.\u001b[39;00m\n\u001b[0;32m    581\u001b[0m \n\u001b[0;32m    582\u001b[0m \u001b[38;5;124;03m    Args:\u001b[39;00m\n\u001b[1;32m   (...)\u001b[0m\n\u001b[0;32m    625\u001b[0m \u001b[38;5;124;03m    RY(0.2, wires=['a'])]\u001b[39;00m\n\u001b[0;32m    626\u001b[0m \u001b[38;5;124;03m    \"\"\"\u001b[39;00m\n\u001b[1;32m--> 627\u001b[0m     new_tape \u001b[38;5;241m=\u001b[39m \u001b[43mexpand_tape\u001b[49m\u001b[43m(\u001b[49m\n\u001b[0;32m    628\u001b[0m \u001b[43m        \u001b[49m\u001b[38;5;28;43mself\u001b[39;49m\u001b[43m,\u001b[49m\u001b[43m \u001b[49m\u001b[43mdepth\u001b[49m\u001b[38;5;241;43m=\u001b[39;49m\u001b[43mdepth\u001b[49m\u001b[43m,\u001b[49m\u001b[43m \u001b[49m\u001b[43mstop_at\u001b[49m\u001b[38;5;241;43m=\u001b[39;49m\u001b[43mstop_at\u001b[49m\u001b[43m,\u001b[49m\u001b[43m \u001b[49m\u001b[43mexpand_measurements\u001b[49m\u001b[38;5;241;43m=\u001b[39;49m\u001b[43mexpand_measurements\u001b[49m\n\u001b[0;32m    629\u001b[0m \u001b[43m    \u001b[49m\u001b[43m)\u001b[49m\n\u001b[0;32m    630\u001b[0m     new_tape\u001b[38;5;241m.\u001b[39m_update()\n\u001b[0;32m    631\u001b[0m     \u001b[38;5;28;01mreturn\u001b[39;00m new_tape\n",
      "File \u001b[1;32m~\\Anaconda3\\lib\\site-packages\\pennylane\\tape\\tape.py:207\u001b[0m, in \u001b[0;36mexpand_tape\u001b[1;34m(tape, depth, stop_at, expand_measurements)\u001b[0m\n\u001b[0;32m    204\u001b[0m         \u001b[38;5;28;01mcontinue\u001b[39;00m\n\u001b[0;32m    206\u001b[0m \u001b[38;5;66;03m# recursively expand out the newly created tape\u001b[39;00m\n\u001b[1;32m--> 207\u001b[0m expanded_tape \u001b[38;5;241m=\u001b[39m \u001b[43mexpand_tape\u001b[49m\u001b[43m(\u001b[49m\u001b[43mobj\u001b[49m\u001b[43m,\u001b[49m\u001b[43m \u001b[49m\u001b[43mstop_at\u001b[49m\u001b[38;5;241;43m=\u001b[39;49m\u001b[43mstop_at\u001b[49m\u001b[43m,\u001b[49m\u001b[43m \u001b[49m\u001b[43mdepth\u001b[49m\u001b[38;5;241;43m=\u001b[39;49m\u001b[43mdepth\u001b[49m\u001b[43m \u001b[49m\u001b[38;5;241;43m-\u001b[39;49m\u001b[43m \u001b[49m\u001b[38;5;241;43m1\u001b[39;49m\u001b[43m)\u001b[49m\n\u001b[0;32m    209\u001b[0m new_tape\u001b[38;5;241m.\u001b[39m_prep \u001b[38;5;241m+\u001b[39m\u001b[38;5;241m=\u001b[39m expanded_tape\u001b[38;5;241m.\u001b[39m_prep\n\u001b[0;32m    210\u001b[0m new_tape\u001b[38;5;241m.\u001b[39m_ops \u001b[38;5;241m+\u001b[39m\u001b[38;5;241m=\u001b[39m expanded_tape\u001b[38;5;241m.\u001b[39m_ops\n",
      "File \u001b[1;32m~\\Anaconda3\\lib\\site-packages\\pennylane\\tape\\tape.py:199\u001b[0m, in \u001b[0;36mexpand_tape\u001b[1;34m(tape, depth, stop_at, expand_measurements)\u001b[0m\n\u001b[0;32m    196\u001b[0m \u001b[38;5;28;01mif\u001b[39;00m \u001b[38;5;28misinstance\u001b[39m(obj, (qml\u001b[38;5;241m.\u001b[39moperation\u001b[38;5;241m.\u001b[39mOperation, qml\u001b[38;5;241m.\u001b[39mmeasurements\u001b[38;5;241m.\u001b[39mMeasurementProcess)):\n\u001b[0;32m    197\u001b[0m     \u001b[38;5;66;03m# Object is an operation; query it for its expansion\u001b[39;00m\n\u001b[0;32m    198\u001b[0m     \u001b[38;5;28;01mtry\u001b[39;00m:\n\u001b[1;32m--> 199\u001b[0m         obj \u001b[38;5;241m=\u001b[39m \u001b[43mobj\u001b[49m\u001b[38;5;241;43m.\u001b[39;49m\u001b[43mexpand\u001b[49m\u001b[43m(\u001b[49m\u001b[43m)\u001b[49m\n\u001b[0;32m    200\u001b[0m     \u001b[38;5;28;01mexcept\u001b[39;00m DecompositionUndefinedError:\n\u001b[0;32m    201\u001b[0m         \u001b[38;5;66;03m# Object does not define an expansion; treat this as\u001b[39;00m\n\u001b[0;32m    202\u001b[0m         \u001b[38;5;66;03m# a stopping condition.\u001b[39;00m\n\u001b[0;32m    203\u001b[0m         \u001b[38;5;28mgetattr\u001b[39m(new_tape, queue)\u001b[38;5;241m.\u001b[39mappend(obj)\n",
      "File \u001b[1;32m~\\Anaconda3\\lib\\site-packages\\pennylane\\operation.py:1094\u001b[0m, in \u001b[0;36mOperator.expand\u001b[1;34m(self)\u001b[0m\n\u001b[0;32m   1091\u001b[0m \u001b[38;5;28;01mwith\u001b[39;00m tape:\n\u001b[0;32m   1093\u001b[0m     \u001b[38;5;28;01mtry\u001b[39;00m:\n\u001b[1;32m-> 1094\u001b[0m         \u001b[38;5;28;43mself\u001b[39;49m\u001b[38;5;241;43m.\u001b[39;49m\u001b[43mdecomposition\u001b[49m\u001b[43m(\u001b[49m\u001b[43m)\u001b[49m\n\u001b[0;32m   1096\u001b[0m     \u001b[38;5;28;01mexcept\u001b[39;00m \u001b[38;5;167;01mTypeError\u001b[39;00m:\n\u001b[0;32m   1097\u001b[0m         \u001b[38;5;28;01mif\u001b[39;00m \u001b[38;5;28mself\u001b[39m\u001b[38;5;241m.\u001b[39mnum_params \u001b[38;5;241m==\u001b[39m \u001b[38;5;241m0\u001b[39m:\n",
      "File \u001b[1;32m~\\Anaconda3\\lib\\site-packages\\pennylane\\operation.py:982\u001b[0m, in \u001b[0;36mOperator.decomposition\u001b[1;34m(self)\u001b[0m\n\u001b[0;32m    970\u001b[0m \u001b[38;5;28;01mdef\u001b[39;00m \u001b[38;5;21mdecomposition\u001b[39m(\u001b[38;5;28mself\u001b[39m):\n\u001b[0;32m    971\u001b[0m     \u001b[38;5;124mr\u001b[39m\u001b[38;5;124;03m\"\"\"Representation of the operator as a product of other operators.\u001b[39;00m\n\u001b[0;32m    972\u001b[0m \n\u001b[0;32m    973\u001b[0m \u001b[38;5;124;03m    .. math:: O = O_1 O_2 \\dots O_n\u001b[39;00m\n\u001b[1;32m   (...)\u001b[0m\n\u001b[0;32m    980\u001b[0m \u001b[38;5;124;03m        list[Operator]: decomposition of the operator\u001b[39;00m\n\u001b[0;32m    981\u001b[0m \u001b[38;5;124;03m    \"\"\"\u001b[39;00m\n\u001b[1;32m--> 982\u001b[0m     \u001b[38;5;28;01mreturn\u001b[39;00m \u001b[38;5;28mself\u001b[39m\u001b[38;5;241m.\u001b[39mcompute_decomposition(\n\u001b[0;32m    983\u001b[0m         \u001b[38;5;241m*\u001b[39m\u001b[38;5;28mself\u001b[39m\u001b[38;5;241m.\u001b[39mparameters, wires\u001b[38;5;241m=\u001b[39m\u001b[38;5;28mself\u001b[39m\u001b[38;5;241m.\u001b[39mwires, \u001b[38;5;241m*\u001b[39m\u001b[38;5;241m*\u001b[39m\u001b[38;5;28mself\u001b[39m\u001b[38;5;241m.\u001b[39mhyperparameters\n\u001b[0;32m    984\u001b[0m     )\n",
      "File \u001b[1;32m~\\Anaconda3\\lib\\site-packages\\pennylane\\ops\\qubit\\parametric_ops.py:875\u001b[0m, in \u001b[0;36mMultiRZ.compute_decomposition\u001b[1;34m(theta, wires, **kwargs)\u001b[0m\n\u001b[0;32m    873\u001b[0m ops \u001b[38;5;241m=\u001b[39m [qml\u001b[38;5;241m.\u001b[39mCNOT(wires\u001b[38;5;241m=\u001b[39m(w0, w1)) \u001b[38;5;28;01mfor\u001b[39;00m w0, w1 \u001b[38;5;129;01min\u001b[39;00m \u001b[38;5;28mzip\u001b[39m(wires[\u001b[38;5;241m~\u001b[39m\u001b[38;5;241m0\u001b[39m:\u001b[38;5;241m0\u001b[39m:\u001b[38;5;241m-\u001b[39m\u001b[38;5;241m1\u001b[39m], wires[\u001b[38;5;241m~\u001b[39m\u001b[38;5;241m1\u001b[39m::\u001b[38;5;241m-\u001b[39m\u001b[38;5;241m1\u001b[39m])]\n\u001b[0;32m    874\u001b[0m ops\u001b[38;5;241m.\u001b[39mappend(RZ(theta, wires\u001b[38;5;241m=\u001b[39mwires[\u001b[38;5;241m0\u001b[39m]))\n\u001b[1;32m--> 875\u001b[0m ops \u001b[38;5;241m+\u001b[39m\u001b[38;5;241m=\u001b[39m [qml\u001b[38;5;241m.\u001b[39mCNOT(wires\u001b[38;5;241m=\u001b[39m(w0, w1)) \u001b[38;5;28;01mfor\u001b[39;00m w0, w1 \u001b[38;5;129;01min\u001b[39;00m \u001b[38;5;28mzip\u001b[39m(wires[\u001b[38;5;241m1\u001b[39m:], wires[:\u001b[38;5;241m~\u001b[39m\u001b[38;5;241m0\u001b[39m])]\n\u001b[0;32m    877\u001b[0m \u001b[38;5;28;01mreturn\u001b[39;00m ops\n",
      "File \u001b[1;32m~\\Anaconda3\\lib\\site-packages\\pennylane\\ops\\qubit\\parametric_ops.py:875\u001b[0m, in \u001b[0;36m<listcomp>\u001b[1;34m(.0)\u001b[0m\n\u001b[0;32m    873\u001b[0m ops \u001b[38;5;241m=\u001b[39m [qml\u001b[38;5;241m.\u001b[39mCNOT(wires\u001b[38;5;241m=\u001b[39m(w0, w1)) \u001b[38;5;28;01mfor\u001b[39;00m w0, w1 \u001b[38;5;129;01min\u001b[39;00m \u001b[38;5;28mzip\u001b[39m(wires[\u001b[38;5;241m~\u001b[39m\u001b[38;5;241m0\u001b[39m:\u001b[38;5;241m0\u001b[39m:\u001b[38;5;241m-\u001b[39m\u001b[38;5;241m1\u001b[39m], wires[\u001b[38;5;241m~\u001b[39m\u001b[38;5;241m1\u001b[39m::\u001b[38;5;241m-\u001b[39m\u001b[38;5;241m1\u001b[39m])]\n\u001b[0;32m    874\u001b[0m ops\u001b[38;5;241m.\u001b[39mappend(RZ(theta, wires\u001b[38;5;241m=\u001b[39mwires[\u001b[38;5;241m0\u001b[39m]))\n\u001b[1;32m--> 875\u001b[0m ops \u001b[38;5;241m+\u001b[39m\u001b[38;5;241m=\u001b[39m [\u001b[43mqml\u001b[49m\u001b[38;5;241;43m.\u001b[39;49m\u001b[43mCNOT\u001b[49m\u001b[43m(\u001b[49m\u001b[43mwires\u001b[49m\u001b[38;5;241;43m=\u001b[39;49m\u001b[43m(\u001b[49m\u001b[43mw0\u001b[49m\u001b[43m,\u001b[49m\u001b[43m \u001b[49m\u001b[43mw1\u001b[49m\u001b[43m)\u001b[49m\u001b[43m)\u001b[49m \u001b[38;5;28;01mfor\u001b[39;00m w0, w1 \u001b[38;5;129;01min\u001b[39;00m \u001b[38;5;28mzip\u001b[39m(wires[\u001b[38;5;241m1\u001b[39m:], wires[:\u001b[38;5;241m~\u001b[39m\u001b[38;5;241m0\u001b[39m])]\n\u001b[0;32m    877\u001b[0m \u001b[38;5;28;01mreturn\u001b[39;00m ops\n",
      "File \u001b[1;32m~\\Anaconda3\\lib\\site-packages\\pennylane\\operation.py:1392\u001b[0m, in \u001b[0;36mOperation.__init__\u001b[1;34m(self, wires, do_queue, id, *params)\u001b[0m\n\u001b[0;32m   1390\u001b[0m \u001b[38;5;28;01mdef\u001b[39;00m \u001b[38;5;21m__init__\u001b[39m(\u001b[38;5;28mself\u001b[39m, \u001b[38;5;241m*\u001b[39mparams, wires\u001b[38;5;241m=\u001b[39m\u001b[38;5;28;01mNone\u001b[39;00m, do_queue\u001b[38;5;241m=\u001b[39m\u001b[38;5;28;01mTrue\u001b[39;00m, \u001b[38;5;28mid\u001b[39m\u001b[38;5;241m=\u001b[39m\u001b[38;5;28;01mNone\u001b[39;00m):\n\u001b[1;32m-> 1392\u001b[0m     \u001b[38;5;28mself\u001b[39m\u001b[38;5;241m.\u001b[39m_inverse \u001b[38;5;241m=\u001b[39m \u001b[38;5;28;01mFalse\u001b[39;00m\n\u001b[0;32m   1393\u001b[0m     \u001b[38;5;28msuper\u001b[39m()\u001b[38;5;241m.\u001b[39m\u001b[38;5;21m__init__\u001b[39m(\u001b[38;5;241m*\u001b[39mparams, wires\u001b[38;5;241m=\u001b[39mwires, do_queue\u001b[38;5;241m=\u001b[39mdo_queue, \u001b[38;5;28mid\u001b[39m\u001b[38;5;241m=\u001b[39m\u001b[38;5;28mid\u001b[39m)\n\u001b[0;32m   1395\u001b[0m     \u001b[38;5;66;03m# check the grad_recipe validity\u001b[39;00m\n",
      "\u001b[1;31mKeyboardInterrupt\u001b[0m: "
     ]
    }
   ],
   "source": [
    "print(\"Initial cost:\", cost_function(params))\n",
    "\n",
    "for i in range(10):\n",
    "    params = optimizer.step(cost_function, params)\n",
    "    cost_eval = cost_function(params)\n",
    "    print(f\"Completed iteration {i + 1}, cost function:\", cost_eval)"
   ]
  },
  {
   "cell_type": "code",
   "execution_count": null,
   "id": "734c80d9",
   "metadata": {},
   "outputs": [],
   "source": []
  },
  {
   "cell_type": "code",
   "execution_count": null,
   "id": "bc77fdf9",
   "metadata": {},
   "outputs": [],
   "source": []
  }
 ],
 "metadata": {
  "kernelspec": {
   "display_name": "Python 3 (ipykernel)",
   "language": "python",
   "name": "python3"
  },
  "language_info": {
   "codemirror_mode": {
    "name": "ipython",
    "version": 3
   },
   "file_extension": ".py",
   "mimetype": "text/x-python",
   "name": "python",
   "nbconvert_exporter": "python",
   "pygments_lexer": "ipython3",
   "version": "3.9.12"
  }
 },
 "nbformat": 4,
 "nbformat_minor": 5
}
