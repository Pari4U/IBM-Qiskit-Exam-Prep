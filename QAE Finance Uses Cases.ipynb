{
 "cells": [
  {
   "cell_type": "markdown",
   "metadata": {},
   "source": [
    "## Quantum Amplitude Estimation Financial Services Uses Cases"
   ]
  },
  {
   "cell_type": "markdown",
   "metadata": {},
   "source": [
    "### Introduction\n",
    "This jupyter shows how quantum amplitude estimation can be used for credit risk analysis\n",
    "providing a quadratical advantage over other classical methods as monthecarlo.\n",
    "\n",
    "The jupyter is based on the following papers:\n",
    "- <a href=\"https://www.nature.com/articles/s41534-019-0130-6\">Quantum Risk Analysis. Stefan Woerner, Daniel J. Egger.</a> [Woerner2019]\n",
    "- <a href=\"https://arxiv.org/abs/1907.03044\">Credit Risk Analysis using Quantum Computers. Egger et al. (2019)</a> [Egger2019]\n",
    "\n",
    "A general introduction to QAE can be found in the following paper and tutorial:\n",
    "- <a href=\"http://arxiv.org/abs/quant-ph/0005055\">Quantum Amplitude Amplification and Estimation. Gilles Brassard et al.</a>\n",
    "- <a href=\"../../amplitude_estimation.ipynb\">Qiskit Tutorial on Quantum Amplitude Estimation</a>"
   ]
  },
  {
   "cell_type": "markdown",
   "metadata": {},
   "source": [
    "Please import the following libraries, that will be required during the execution of this notebook. If your system lacks any of these libraries, use ```pip install --user -r requirements.txt``` in a command line, within this notebook's folder, to ensure that all required libraries are installed."
   ]
  },
  {
   "cell_type": "code",
   "execution_count": 8,
   "metadata": {},
   "outputs": [],
   "source": [
    "import numpy as np\n",
    "import matplotlib.pyplot as plt\n",
    "\n",
    "from qiskit import QuantumRegister, QuantumCircuit, Aer, execute\n",
    "from qiskit.circuit.library import IntegerComparator\n",
    "from qiskit.aqua.algorithms import IterativeAmplitudeEstimation, AmplitudeEstimation, MaximumLikelihoodAmplitudeEstimation"
   ]
  },
  {
   "cell_type": "markdown",
   "metadata": {},
   "source": [
    "### 1) Uncertainty model"
   ]
  },
  {
   "cell_type": "markdown",
   "metadata": {},
   "source": [
    "#### Theoretical overview\n",
    "\n",
    "In this jupyter we want to analyze the credit risk of a portfolio of $K$ assets.\n",
    "The default probability of every asset $k$ follows a *Gaussian Conditional Independence* model, i.e., given a value $z$ sampled from a latent random variable $Z$ following a standard normal distribution, the default probability of asset $k$ is given by\n",
    "\n",
    "$$p_k(z) = F\\left( \\frac{F^{-1}(p_k^0) - \\sqrt{\\rho_k}z}{\\sqrt{1 - \\rho_k}} \\right) $$\n",
    "\n",
    "where $F$ denotes the cumulative distribution function of $Z$, $p_k^0$ is the default probability of asset $k$ for $z=0$ and $\\rho_k$ is the sensitivity of the default probability of asset $k$ with respect to $Z$. Thus, given a concrete realization of $Z$ the individual default events are assumed to be independent from each other.\n",
    "\n",
    "The problem is defined by the following parameters:\n",
    "- number of qubits used to represent $Z$, denoted by $n_z$\n",
    "- truncation value for $Z$, denoted by $z_{\\text{max}}$, i.e., Z is assumed to take $2^{n_z}$ equidistant values in $\\{-z_{max}, ..., +z_{max}\\}$ \n",
    "- the base default probabilities for each asset $p_0^k \\in (0, 1)$, $k=1, ..., K$\n",
    "- sensitivities of the default probabilities with respect to $Z$, denoted by $\\rho_k \\in [0, 1)$"
   ]
  },
  {
   "cell_type": "markdown",
   "metadata": {},
   "source": [
    "The objective of this module is creating a quantum state in a register of $n_z$ qubits that represents $Z$ following a standard normal distribution. This state is then used to control single qubit Y-rotations on a second qubit register of $K$ qubits, where a $|1\\rangle$ state of qubit $k$ represents the default event of asset $k$. The resulting quantum state can be written as\n",
    "\n",
    "$$ |\\Psi\\rangle = \\sum_{i=0}^{2^{n_z}-1} \\sqrt{p_z^i} |z_i \\rangle \\bigotimes_{k=1}^K \n",
    "\\left( \\sqrt{1 - p_k(z_i)}|0\\rangle + \\sqrt{p_k(z_i)}|1\\rangle\\right),$$\n",
    "\n",
    "where we denote by $z_i$ the $i$-th value of the discretized and truncated $Z$ [Egger2019]."
   ]
  },
  {
   "cell_type": "markdown",
   "metadata": {},
   "source": [
    "#### Practical implementation"
   ]
  },
  {
   "cell_type": "code",
   "execution_count": 2,
   "metadata": {},
   "outputs": [],
   "source": [
    "# set the problem parameters\n",
    "n_z = 2\n",
    "z_max = 2\n",
    "z_values = np.linspace(-z_max, z_max, 2**n_z)\n",
    "p_zeros = [0.15, 0.25]\n",
    "rhos = [0.1, 0.05]\n",
    "K = len(p_zeros)"
   ]
  },
  {
   "cell_type": "code",
   "execution_count": 3,
   "metadata": {},
   "outputs": [],
   "source": [
    "from qiskit.finance.applications import GaussianConditionalIndependenceModel as GCI\n",
    "u = GCI(n_z, z_max, p_zeros, rhos)"
   ]
  },
  {
   "cell_type": "code",
   "execution_count": 4,
   "metadata": {},
   "outputs": [
    {
     "data": {
      "text/html": [
       "<pre style=\"word-wrap: normal;white-space: pre;background: #fff0;line-height: 1.1;font-family: &quot;Courier New&quot;,Courier,monospace\">     ┌───────┐┌─────────┐┌─────────┐\n",
       "q_0: ┤0      ├┤0        ├┤0        ├\n",
       "     │  P(X) ││         ││         │\n",
       "q_1: ┤1      ├┤1 LinRot ├┤1        ├\n",
       "     └───────┘│         ││  LinRot │\n",
       "q_2: ─────────┤2        ├┤         ├\n",
       "              └─────────┘│         │\n",
       "q_3: ────────────────────┤2        ├\n",
       "                         └─────────┘</pre>"
      ],
      "text/plain": [
       "     ┌───────┐┌─────────┐┌─────────┐\n",
       "q_0: ┤0      ├┤0        ├┤0        ├\n",
       "     │  P(X) ││         ││         │\n",
       "q_1: ┤1      ├┤1 LinRot ├┤1        ├\n",
       "     └───────┘│         ││  LinRot │\n",
       "q_2: ─────────┤2        ├┤         ├\n",
       "              └─────────┘│         │\n",
       "q_3: ────────────────────┤2        ├\n",
       "                         └─────────┘"
      ]
     },
     "execution_count": 4,
     "metadata": {},
     "output_type": "execute_result"
    }
   ],
   "source": [
    "u.draw()"
   ]
  },
  {
   "cell_type": "markdown",
   "metadata": {},
   "source": [
    "#### Ploting the probability distribution of the random variable Z"
   ]
  },
  {
   "cell_type": "code",
   "execution_count": 5,
   "metadata": {},
   "outputs": [],
   "source": [
    "# run the circuit and analyze the results\n",
    "job = execute(u, backend=Aer.get_backend('statevector_simulator'))"
   ]
  },
  {
   "cell_type": "code",
   "execution_count": 6,
   "metadata": {},
   "outputs": [],
   "source": [
    "# measuring for characterizing the probability distribution of Z\n",
    "p_z = np.zeros(2**n_z)\n",
    "values = []\n",
    "probabilities = []\n",
    "num_qubits = u.num_qubits\n",
    "for i, a in enumerate(job.result().get_statevector()):\n",
    "    \n",
    "    # get binary representation\n",
    "    b = ('{0:0%sb}' % num_qubits).format(i)\n",
    "    prob = np.abs(a)**2\n",
    "\n",
    "    # extract value of Z and corresponding probability    \n",
    "    i_normal = int(b[-n_z:], 2)\n",
    "    p_z[i_normal] += prob\n"
   ]
  },
  {
   "cell_type": "code",
   "execution_count": 7,
   "metadata": {},
   "outputs": [
    {
     "data": {
      "image/png": "[encoded data removed]",
      "text/plain": [
       "<Figure size 432x288 with 1 Axes>"
      ]
     },
     "metadata": {
      "needs_background": "light"
     },
     "output_type": "display_data"
    }
   ],
   "source": [
    "# plot results for Z\n",
    "plt.plot(z_values, p_z, 'o-', linewidth=3, markersize=8)\n",
    "plt.grid()\n",
    "plt.xlabel('Z value', size=15)\n",
    "plt.ylabel('probability (%)', size=15)\n",
    "plt.title('Z Distribution', size=20)\n",
    "plt.xticks(size=15)\n",
    "plt.yticks(size=15)\n",
    "plt.show()"
   ]
  },
  {
   "cell_type": "markdown",
   "metadata": {},
   "source": [
    "#### Computing the probability distribution of the different losses"
   ]
  },
  {
   "cell_type": "code",
   "execution_count": 9,
   "metadata": {},
   "outputs": [],
   "source": [
    "lgd = [1, 2]\n",
    "\n",
    "# run the circuit \n",
    "# Use the state vector simulator to execute the circuit and store the result in the variable job\n",
    "##################### Code here #############################################\n",
    "job = execute(u, backend=Aer.get_backend('statevector_simulator'))\n",
    "#############################################################################\n",
    "\n",
    "# analyze uncertainty circuit and determine exact solutions\n",
    "p_z = np.zeros(2**n_z)\n",
    "p_default = np.zeros(K)\n",
    "values = []\n",
    "probabilities = []\n",
    "num_qubits = u.num_qubits\n",
    "\n",
    "\n",
    "\n",
    "# from the job.result().get_statevector() results build a vector for the different values of loss and\n",
    "#other vector for the different probabilities of default \n",
    "\n",
    "################################################ Code here ####################\n",
    "for i, a in enumerate(job.result().get_statevector()):\n",
    "    \n",
    "    # get binary representation\n",
    "    b = ('{0:0%sb}' % num_qubits).format(i)\n",
    "    prob = np.abs(a)**2\n",
    "\n",
    "    # extract value of Z and corresponding probability    \n",
    "    i_normal = int(b[-n_z:], 2)\n",
    "    p_z[i_normal] += prob\n",
    "\n",
    "    # determine overall default probability for k \n",
    "    loss = 0\n",
    "    for k in range(K):\n",
    "        if b[K - k - 1] == '1':\n",
    "            p_default[k] += prob\n",
    "            loss += lgd[k]\n",
    "    values += [loss]\n",
    "    probabilities += [prob]   \n",
    "\n",
    "values = np.array(values)\n",
    "probabilities = np.array(probabilities)\n",
    "losses = np.sort(np.unique(values))\n",
    "pdf = np.zeros(len(losses))\n",
    "for i, v in enumerate(losses):\n",
    "    pdf[i] += sum(probabilities[values == v])\n",
    "\n",
    "\n"
   ]
  },
  {
   "cell_type": "code",
   "execution_count": 10,
   "metadata": {},
   "outputs": [
    {
     "name": "stderr",
     "output_type": "stream",
     "text": [
      "No handles with labels found to put in legend.\n"
     ]
    },
    {
     "data": {
      "image/png": "[encoded data removed]",
      "text/plain": [
       "<Figure size 432x288 with 1 Axes>"
      ]
     },
     "metadata": {
      "needs_background": "light"
     },
     "output_type": "display_data"
    }
   ],
   "source": [
    "# plot loss PDF, expected loss, var, and cvar\n",
    "plt.bar(losses,pdf)\n",
    "plt.legend(fontsize=15)\n",
    "plt.xlabel('Loss L ($)', size=15)\n",
    "plt.ylabel('probability (%)', size=15)\n",
    "plt.title('Loss Distribution', size=20)\n",
    "plt.show()"
   ]
  },
  {
   "cell_type": "markdown",
   "metadata": {},
   "source": [
    "### Exercise 1) Compute expected Loss of for the former probability distribution without using Quantum Amplitude Estimation"
   ]
  },
  {
   "cell_type": "markdown",
   "metadata": {},
   "source": [
    "(10 minutes)"
   ]
  },
  {
   "cell_type": "code",
   "execution_count": null,
   "metadata": {},
   "outputs": [],
   "source": [
    "# Compute the expected loss by using the array of default values and probabilities\n",
    "######################################### Code Here ###################################\n",
    "expected_loss = \n",
    "#######################################################################################\n",
    "\n",
    "\n",
    "print(expected_loss)"
   ]
  },
  {
   "cell_type": "markdown",
   "metadata": {},
   "source": [
    "##### Solution"
   ]
  },
  {
   "cell_type": "code",
   "execution_count": 64,
   "metadata": {},
   "outputs": [
    {
     "name": "stdout",
     "output_type": "stream",
     "text": [
      "0.6408668834510435\n"
     ]
    }
   ],
   "source": [
    "# Compute the expected loss by using the array of default values and probabilities\n",
    "######################################### Code Here ###################################\n",
    "expected_loss = np.dot(values, probabilities)\n",
    "#######################################################################################\n",
    "\n",
    "\n",
    "print(expected_loss)"
   ]
  },
  {
   "cell_type": "markdown",
   "metadata": {},
   "source": [
    "### 2) QAE for computing Expected Loss\n",
    "\n",
    "once we have mappead the uncertainty function to a quantum state is easy to estimate the expected loss, we first apply a weighted sum operator to sum up individual losses to total loss:\n",
    "\n",
    "$$ \\mathcal{S}: |x_1, ..., x_K \\rangle_K |0\\rangle_{n_S} \\mapsto |x_1, ..., x_K \\rangle_K |\\lambda_1x_1 + ... + \\lambda_K x_K\\rangle_{n_S}. $$\n",
    "\n",
    "The required number of qubits to represent the result is given by\n",
    "\n",
    "$$ n_s = \\lfloor \\log_2( \\lambda_1 + ... + \\lambda_K ) \\rfloor + 1. $$\n",
    "\n",
    "Once we have the total loss distribution in a quantum register, we can use the techniques described in [Woerner2019] to map a total loss $L \\in \\{0, ..., 2^{n_s}-1\\}$ to the amplitude of an objective qubit by an operator\n",
    "\n",
    "$$ | L \\rangle_{n_s}|0\\rangle \\mapsto \n",
    "| L \\rangle_{n_s} \\left( \\sqrt{1 - L/(2^{n_s}-1)}|0\\rangle + \\sqrt{L/(2^{n_s}-1)}|1\\rangle \\right), $$\n",
    "\n",
    "which allows to run amplitude estimation to evaluate the expected loss."
   ]
  },
  {
   "cell_type": "code",
   "execution_count": 62,
   "metadata": {},
   "outputs": [],
   "source": [
    "#Documentation: https://qiskit.org/documentation/stubs/qiskit.circuit.library.WeightedAdder.html"
   ]
  },
  {
   "cell_type": "code",
   "execution_count": 14,
   "metadata": {},
   "outputs": [],
   "source": [
    "# set problem parameters\n",
    "n_z = 2\n",
    "z_max = 2\n",
    "z_values = np.linspace(-z_max, z_max, 2**n_z)\n",
    "p_zeros = [0.15, 0.25]\n",
    "rhos = [0.1, 0.05]\n",
    "K = len(p_zeros)\n",
    "lgd = [1, 2]"
   ]
  },
  {
   "cell_type": "code",
   "execution_count": 15,
   "metadata": {},
   "outputs": [],
   "source": [
    "# add Z qubits with weight/loss 0\n",
    "from qiskit.circuit.library import WeightedAdder\n",
    "agg = WeightedAdder(n_z + K, [0]*n_z + lgd)"
   ]
  },
  {
   "cell_type": "code",
   "execution_count": 16,
   "metadata": {},
   "outputs": [],
   "source": [
    "from qiskit.circuit.library import LinearAmplitudeFunction\n",
    "\n",
    "# define linear objective function\n",
    "breakpoints = [0]\n",
    "slopes = [1]\n",
    "offsets = [0]\n",
    "f_min = 0\n",
    "f_max = sum(lgd)\n",
    "c_approx = 0.25\n",
    "\n",
    "objective = LinearAmplitudeFunction(\n",
    "    agg.num_sum_qubits,\n",
    "    slope=slopes, \n",
    "    offset=offsets, \n",
    "    # max value that can be reached by the qubit register (will not always be reached)\n",
    "    domain=(0, 2**agg.num_sum_qubits-1),  \n",
    "    image=(f_min, f_max),\n",
    "    rescaling_factor=c_approx,\n",
    "    breakpoints=breakpoints\n",
    ")"
   ]
  },
  {
   "cell_type": "code",
   "execution_count": 17,
   "metadata": {},
   "outputs": [
    {
     "data": {
      "text/html": [
       "<pre style=\"word-wrap: normal;white-space: pre;background: #fff0;line-height: 1.1;font-family: &quot;Courier New&quot;,Courier,monospace\">             ┌───────┐┌────────┐      ┌───────────┐\n",
       "    state_0: ┤0      ├┤0       ├──────┤0          ├\n",
       "             │       ││        │      │           │\n",
       "    state_1: ┤1      ├┤1       ├──────┤1          ├\n",
       "             │  P(X) ││        │      │           │\n",
       "    state_2: ┤2      ├┤2       ├──────┤2          ├\n",
       "             │       ││        │      │           │\n",
       "    state_3: ┤3      ├┤3       ├──────┤3          ├\n",
       "             └───────┘│  adder │┌────┐│  adder_dg │\n",
       "objective_0: ─────────┤        ├┤2   ├┤           ├\n",
       "                      │        ││    ││           │\n",
       "      sum_0: ─────────┤4       ├┤0 F ├┤4          ├\n",
       "                      │        ││    ││           │\n",
       "      sum_1: ─────────┤5       ├┤1   ├┤5          ├\n",
       "                      │        │└────┘│           │\n",
       "    carry_0: ─────────┤6       ├──────┤6          ├\n",
       "                      └────────┘      └───────────┘</pre>"
      ],
      "text/plain": [
       "             ┌───────┐┌────────┐      ┌───────────┐\n",
       "    state_0: ┤0      ├┤0       ├──────┤0          ├\n",
       "             │       ││        │      │           │\n",
       "    state_1: ┤1      ├┤1       ├──────┤1          ├\n",
       "             │  P(X) ││        │      │           │\n",
       "    state_2: ┤2      ├┤2       ├──────┤2          ├\n",
       "             │       ││        │      │           │\n",
       "    state_3: ┤3      ├┤3       ├──────┤3          ├\n",
       "             └───────┘│  adder │┌────┐│  adder_dg │\n",
       "objective_0: ─────────┤        ├┤2   ├┤           ├\n",
       "                      │        ││    ││           │\n",
       "      sum_0: ─────────┤4       ├┤0 F ├┤4          ├\n",
       "                      │        ││    ││           │\n",
       "      sum_1: ─────────┤5       ├┤1   ├┤5          ├\n",
       "                      │        │└────┘│           │\n",
       "    carry_0: ─────────┤6       ├──────┤6          ├\n",
       "                      └────────┘      └───────────┘"
      ]
     },
     "execution_count": 17,
     "metadata": {},
     "output_type": "execute_result"
    }
   ],
   "source": [
    "## Create the state preparation circuit:\n",
    "# define the registers for convenience and readability\n",
    "qr_state = QuantumRegister(u.num_qubits, 'state')\n",
    "qr_sum = QuantumRegister(agg.num_sum_qubits, 'sum')\n",
    "qr_carry = QuantumRegister(agg.num_carry_qubits, 'carry')\n",
    "qr_obj = QuantumRegister(1, 'objective')\n",
    "\n",
    "# define the circuit\n",
    "state_preparation = QuantumCircuit(qr_state, qr_obj, qr_sum, qr_carry, name='A')\n",
    "\n",
    "# load the random variable\n",
    "state_preparation.append(u.to_gate(), qr_state)\n",
    "\n",
    "# aggregate\n",
    "state_preparation.append(agg.to_gate(), qr_state[:] + qr_sum[:] + qr_carry[:])\n",
    "\n",
    "# linear objective function\n",
    "state_preparation.append(objective.to_gate(), qr_sum[:] + qr_obj[:])\n",
    "\n",
    "# uncompute aggregation\n",
    "state_preparation.append(agg.to_gate().inverse(), qr_state[:] + qr_sum[:] + qr_carry[:])\n",
    "\n",
    "# draw the circuit\n",
    "state_preparation.draw()"
   ]
  },
  {
   "cell_type": "markdown",
   "metadata": {},
   "source": [
    "### Exercise 2) Compute the Expected Loss using:\n",
    "\n",
    "1) Iterative Quantum Amplitude Estimation algorithm (https://qiskit.org/documentation/stubs/qiskit.aqua.algorithms.IterativeAmplitudeEstimation.html)\n",
    "\n",
    "2) Canonical Quantum Amplitude Estimation algorithm (https://qiskit.org/documentation/stubs/qiskit.aqua.algorithms.AmplitudeEstimation.html)\n",
    "\n",
    "3) Maximum likelihood quantum amplitude estimation algorithm (https://qiskit.org/documentation/stubs/qiskit.algorithms.MaximumLikelihoodAmplitudeEstimation.html)\n",
    "\n",
    "Compare with the theoretical value obtained in the previous exercise"
   ]
  },
  {
   "cell_type": "markdown",
   "metadata": {},
   "source": [
    "(20 minutes)"
   ]
  },
  {
   "cell_type": "markdown",
   "metadata": {},
   "source": [
    "#### Exercise"
   ]
  },
  {
   "cell_type": "markdown",
   "metadata": {},
   "source": [
    "Iterative Quantum Amplitude Estimation"
   ]
  },
  {
   "cell_type": "code",
   "execution_count": null,
   "metadata": {},
   "outputs": [],
   "source": [
    "# set target precision and confidence level\n",
    "epsilon = 0.01\n",
    "alpha = 0.05\n",
    "\n",
    "# construct amplitude estimation \n",
    "#################### code here ###############################################\n",
    "\n",
    "\n",
    "\n",
    "#############################################################################\n",
    "\n",
    "\n",
    "#print results \n",
    "###################### code here ############################################\n",
    "\n",
    "\n",
    "#############################################################################"
   ]
  },
  {
   "cell_type": "code",
   "execution_count": 31,
   "metadata": {},
   "outputs": [],
   "source": [
    "#Comparing with the theoretical value (0.6408668834510435)\n",
    "#Compute the relative error comparing with the theoretical value:\n",
    "################### code here ###############################################\n",
    "\n",
    "\n",
    "#############################################################################"
   ]
  },
  {
   "cell_type": "markdown",
   "metadata": {},
   "source": [
    "Canonical Quantum Amplitude Estimation"
   ]
  },
  {
   "cell_type": "code",
   "execution_count": null,
   "metadata": {},
   "outputs": [],
   "source": [
    "#Set the number of evaluation qubits\n",
    "num_eval_qubits=6\n",
    "\n",
    "# construct amplitude estimation \n",
    "#################### code here ###############################################\n",
    "\n",
    "\n",
    "\n",
    "#############################################################################\n",
    "\n",
    "\n",
    "#print results \n",
    "###################### code here ############################################\n",
    "\n",
    "\n",
    "#############################################################################"
   ]
  },
  {
   "cell_type": "code",
   "execution_count": null,
   "metadata": {},
   "outputs": [],
   "source": [
    "#Comparing with the theoretical value (0.6408668834510435)\n",
    "#Compute the relative error comparing with the theoretical value:\n",
    "################### code here ###############################################\n",
    "\n",
    "\n",
    "#############################################################################"
   ]
  },
  {
   "cell_type": "markdown",
   "metadata": {},
   "source": [
    "Maximum likelihood Quantum Amplitude Estimation"
   ]
  },
  {
   "cell_type": "code",
   "execution_count": null,
   "metadata": {},
   "outputs": [],
   "source": [
    "#Set the parameters\n",
    "evaluation_schedule=6\n",
    "\n",
    "# construct amplitude estimation \n",
    "#################### code here ###############################################\n",
    "\n",
    "\n",
    "\n",
    "#############################################################################\n",
    "\n",
    "\n",
    "#print results \n",
    "###################### code here ############################################\n",
    "\n",
    "\n",
    "#############################################################################"
   ]
  },
  {
   "cell_type": "code",
   "execution_count": null,
   "metadata": {},
   "outputs": [],
   "source": [
    "#Comparing with the theoretical value (0.6408668834510435)\n",
    "#Compute the relative error comparing with the theoretical value:\n",
    "################### code here ###############################################\n",
    "\n",
    "\n",
    "#############################################################################"
   ]
  },
  {
   "cell_type": "markdown",
   "metadata": {},
   "source": [
    "#### Solution"
   ]
  },
  {
   "cell_type": "markdown",
   "metadata": {},
   "source": [
    "Iterative Quantum Amplitude Estimation"
   ]
  },
  {
   "cell_type": "code",
   "execution_count": 14,
   "metadata": {},
   "outputs": [
    {
     "name": "stdout",
     "output_type": "stream",
     "text": [
      "Estimated value:\t0.6647\n",
      "Confidence interval: \t[0.6466, 0.6828]\n"
     ]
    }
   ],
   "source": [
    "# set target precision and confidence level\n",
    "epsilon = 0.01\n",
    "alpha = 0.05\n",
    "\n",
    "# construct amplitude estimation \n",
    "ae = IterativeAmplitudeEstimation(state_preparation=state_preparation,\n",
    "                                  epsilon=epsilon, alpha=alpha,\n",
    "                                  objective_qubits=[len(qr_state)],\n",
    "                                  post_processing=objective.post_processing)\n",
    "result = ae.run(quantum_instance=Aer.get_backend('qasm_simulator'), shots=100)\n",
    "\n",
    "# print results\n",
    "conf_int = np.array(result['confidence_interval'])\n",
    "\n",
    "print('Estimated value:\\t%.4f' % result['estimation'])\n",
    "print('Confidence interval: \\t[%.4f, %.4f]' % tuple(conf_int))"
   ]
  },
  {
   "cell_type": "markdown",
   "metadata": {},
   "source": [
    "Compare with the value obtained in the previous exercise"
   ]
  },
  {
   "cell_type": "code",
   "execution_count": 24,
   "metadata": {},
   "outputs": [
    {
     "name": "stdout",
     "output_type": "stream",
     "text": [
      "The relative error is  3.718887207998027 %\n"
     ]
    }
   ],
   "source": [
    "#Comparing with the theoretical value (0.6408668834510435)\n",
    "#Compute the relative error comparing with the theoretical value:\n",
    "Theoretical_value=0.6408668834510435\n",
    "Calculated_value=0.6647\n",
    "rel_error=(Calculated_value-Theoretical_value)*100/Theoretical_value\n",
    "print(\"The relative error is \", rel_error,\"%\")"
   ]
  },
  {
   "cell_type": "markdown",
   "metadata": {},
   "source": [
    "Canonical Quantum Amplitude Estimation"
   ]
  },
  {
   "cell_type": "code",
   "execution_count": 26,
   "metadata": {},
   "outputs": [
    {
     "data": {
      "text/plain": [
       "{'a_estimation': 0.4024548, 'confidence_interval': [0.660895791744198, 0.6696674287130038], 'estimation': 0.7548095637653975, 'num_oracle_queries': 127512, 'ml_value': 0.39073929950135544, 'mapped_a_samples': [0.0024076, 0.0096074, 0.0215298, 0.0380602, 0.0590394, 0.0842652, 0.1134948, 0.1464466, 0.1828034, 0.2222149, 0.2643016, 0.3086583, 0.3548577, 0.4024548, 0.4509914, 0.5, 0.5490086, 0.5975452, 0.6451423, 0.6913417, 0.7356984, 0.7777851, 0.8171966, 0.8535534, 0.8865052, 0.9157348, 0.9409606, 0.9975924, 1.0], 'probabilities': [0.0014822134387351778, 0.0004940711462450593, 0.0009881422924901185, 0.001976284584980237, 0.0004940711462450593, 0.001976284584980237, 0.0009881422924901185, 0.0014822134387351778, 0.0029644268774703555, 0.0014822134387351778, 0.008893280632411068, 0.017786561264822136, 0.08053359683794467, 0.8176877470355731, 0.03211462450592885, 0.010869565217391304, 0.00642292490118577, 0.0009881422924901185, 0.0014822134387351778, 0.0009881422924901185, 0.0004940711462450593, 0.0014822134387351778, 0.0014822134387351778, 0.0009881422924901185, 0.0004940711462450593, 0.0009881422924901185, 0.0009881422924901185, 0.0004940711462450593, 0.0004940711462450593], 'shots': 2024, 'mle': 0.6653097326379651, 'circuit_result': {'000001': 1, '010000': 1, '010010': 1, '010011': 835, '010100': 3, '010101': 2, '010111': 2, '011000': 2, '011001': 2, '011010': 1, '011100': 820, '011101': 1, '000010': 10, '100000': 1, '100010': 7, '100011': 28, '100100': 3, '100101': 1, '100110': 1, '100111': 2, '101001': 1, '101010': 1, '101011': 10, '101100': 76, '101101': 3, '101111': 1, '000011': 12, '110000': 1, '110011': 87, '110100': 8, '110110': 1, '110111': 1, '111010': 2, '111011': 3, '111100': 37, '111101': 6, '111110': 1, '111111': 2, '000100': 1, '000101': 1, '000110': 1, '000111': 2, '001000': 3, '001010': 1, '001011': 19, '001100': 17, '001101': 1, '001111': 1}, 'a_samples': [(0.0024076, 0.0014822134387351778), (0.0096074, 0.0004940711462450593), (0.0215298, 0.0009881422924901185), (0.0380602, 0.001976284584980237), (0.0590394, 0.0004940711462450593), (0.0842652, 0.001976284584980237), (0.1134948, 0.0009881422924901185), (0.1464466, 0.0014822134387351778), (0.1828034, 0.0029644268774703555), (0.2222149, 0.0014822134387351778), (0.2643016, 0.008893280632411068), (0.3086583, 0.017786561264822136), (0.3548577, 0.08053359683794467), (0.4024548, 0.8176877470355731), (0.4509914, 0.03211462450592885), (0.5, 0.010869565217391304), (0.5490086, 0.00642292490118577), (0.5975452, 0.0009881422924901185), (0.6451423, 0.0014822134387351778), (0.6913417, 0.0009881422924901185), (0.7356984, 0.0004940711462450593), (0.7777851, 0.0014822134387351778), (0.8171966, 0.0014822134387351778), (0.8535534, 0.0009881422924901185), (0.8865052, 0.0004940711462450593), (0.9157348, 0.0009881422924901185), (0.9409606, 0.0009881422924901185), (0.9975924, 0.0004940711462450593), (1.0, 0.0004940711462450593)], 'y_measurements': [(1, 0.0004940711462450593), (2, 0.0004940711462450593), (3, 0.0004940711462450593), (4, 0.0014822134387351778), (6, 0.0009881422924901185), (8, 0.0004940711462450593), (9, 0.0014822134387351778), (10, 0.0014822134387351778), (11, 0.003952569169960474), (12, 0.008399209486166008), (13, 0.037549407114624504), (14, 0.4051383399209486), (15, 0.018280632411067192), (16, 0.004940711462450593), (17, 0.003458498023715415), (18, 0.0004940711462450593), (20, 0.0004940711462450593), (21, 0.0004940711462450593), (22, 0.0004940711462450593), (23, 0.0009881422924901185), (24, 0.0004940711462450593), (25, 0.0004940711462450593), (27, 0.0004940711462450593), (31, 0.0004940711462450593), (32, 0.0004940711462450593), (37, 0.0004940711462450593), (38, 0.0009881422924901185), (40, 0.0004940711462450593), (41, 0.0004940711462450593), (42, 0.0009881422924901185), (44, 0.0004940711462450593), (45, 0.0014822134387351778), (46, 0.0004940711462450593), (47, 0.0029644268774703555), (48, 0.005928853754940711), (49, 0.01383399209486166), (50, 0.4125494071146245), (51, 0.04298418972332016), (52, 0.009387351778656126), (53, 0.004940711462450593), (55, 0.0014822134387351778), (56, 0.0009881422924901185), (57, 0.0009881422924901185), (58, 0.0009881422924901185), (59, 0.0004940711462450593), (60, 0.0004940711462450593), (61, 0.0004940711462450593), (63, 0.0009881422924901185)], 'mapped_values': [-2.301325925038062, -2.2463235045929566, -2.1552430777040534, -2.028960123882313, -1.868690841540865, -1.6759799248953837, -1.4526822293146382, -1.2009490203334134, -0.9232035274532491, -0.62212184554927, -0.30060314106483754, 0.03825708601888745, 0.39119450415711354, 0.7548095637653975, 1.1256018746873537, 1.5, 1.874398125312646, 2.2451904362346027, 2.608805495842886, 2.9617429139811122, 3.3006031410648378, 3.6221218455492705, 3.92320352745325, 4.200949020333414, 4.452682229314638, 4.675979924895383, 4.868690841540865, 5.301325925038062, 5.319718634205488], 'max_probability': 0.8176877470355731}"
      ]
     },
     "execution_count": 26,
     "metadata": {},
     "output_type": "execute_result"
    }
   ],
   "source": [
    "#Set the parameters\n",
    "num_eval_qubits=6\n",
    "\n",
    "ae = AmplitudeEstimation(num_eval_qubits=num_eval_qubits,\n",
    "                                  state_preparation=state_preparation,\n",
    "                                  objective_qubits=[len(qr_state)],\n",
    "                                  post_processing=objective.post_processing)\n",
    "result = ae.run(quantum_instance=Aer.get_backend('qasm_simulator'), shots=2024)\n",
    "result"
   ]
  },
  {
   "cell_type": "markdown",
   "metadata": {},
   "source": [
    "Compare with the value obtained in the previous exercise"
   ]
  },
  {
   "cell_type": "code",
   "execution_count": 29,
   "metadata": {},
   "outputs": [
    {
     "name": "stdout",
     "output_type": "stream",
     "text": [
      "The relative error is  17.77946142274931 %\n"
     ]
    }
   ],
   "source": [
    "#Comparing with the theoretical value (0.6408668834510435)\n",
    "#Compute the relative error comparing with the theoretical value:\n",
    "Theoretical_value=0.6408668834510435\n",
    "Calculated_value=0.7548095637653975\n",
    "rel_error=(Calculated_value-Theoretical_value)*100/Theoretical_value\n",
    "print(\"The relative error is \", rel_error,\"%\")"
   ]
  },
  {
   "cell_type": "markdown",
   "metadata": {},
   "source": [
    "Maximun likelihood Quantum Amplitude Estimation"
   ]
  },
  {
   "cell_type": "code",
   "execution_count": 28,
   "metadata": {},
   "outputs": [
    {
     "data": {
      "text/plain": [
       "{'a_estimation': 0.3905532581010174, 'confidence_interval': [0.6625224127040987, 0.6652545493574114], 'estimation': 0.663888481030755, 'num_oracle_queries': 315000, 'circuit_results': [{'0': 3035, '1': 1965}, {'0': 986, '1': 4014}, {'0': 4753, '1': 247}, {'0': 4787, '1': 213}, {'0': 1026, '1': 3974}, {'0': 4593, '1': 407}, {'0': 4948, '1': 52}], 'theta': 0.6750580091787691, 'fisher_information': 120136251.2615256}"
      ]
     },
     "execution_count": 28,
     "metadata": {},
     "output_type": "execute_result"
    }
   ],
   "source": [
    "#Set the parameters\n",
    "evaluation_schedule=6\n",
    "\n",
    "mae=MaximumLikelihoodAmplitudeEstimation(evaluation_schedule, state_preparation=state_preparation,  objective_qubits=[len(qr_state)],\n",
    "                                  post_processing=objective.post_processing)\n",
    "result_maxlike_ae = mae.run(quantum_instance=Aer.get_backend('qasm_simulator'), shots=5000)\n",
    "result_maxlike_ae"
   ]
  },
  {
   "cell_type": "markdown",
   "metadata": {},
   "source": [
    "Compare with the value obtained in the previous exercise"
   ]
  },
  {
   "cell_type": "code",
   "execution_count": 30,
   "metadata": {},
   "outputs": [
    {
     "name": "stdout",
     "output_type": "stream",
     "text": [
      "The relative error is  3.592258887796034 %\n"
     ]
    }
   ],
   "source": [
    "#Comparing with the theoretical value (0.6408668834510435)\n",
    "#Compute the relative error comparing with the theoretical value:\n",
    "Theoretical_value=0.6408668834510435\n",
    "Calculated_value=0.663888481030755\n",
    "rel_error=(Calculated_value-Theoretical_value)*100/Theoretical_value\n",
    "print(\"The relative error is \", rel_error,\"%\")"
   ]
  },
  {
   "cell_type": "markdown",
   "metadata": {},
   "source": [
    "### 3) QAE for computing Cumulative Distribution Function\n",
    "\n",
    "Instead of the expected loss (which could also be estimated efficiently using classical techniques) we now estimate the cumulative distribution function (CDF) of the loss.\n",
    "Classically, this either involves evaluating all the possible combinations of defaulting assets, or many classical samples in a Monte Carlo simulation. Algorithms based on QAE have the potential to significantly speed up this analysis in the future.\n",
    "\n",
    "To estimate the CDF, i.e., the probability $ \\mathbb{P}[L \\leq x] $, we again apply $\\mathcal{S}$ to compute the total loss, and then apply a comparator that for a given value $x$ acts as\n",
    "\n",
    "$$ \\mathcal{C}: |L\\rangle_n|0> \\mapsto \n",
    "\\begin{cases} \n",
    "|L\\rangle_n|1> & \\text{if}\\quad L \\leq x \\\\\n",
    "|L\\rangle_n|0> & \\text{if}\\quad L > x.\n",
    "\\end{cases} $$\n",
    "\n",
    "The resulting quantum state can be written as\n",
    "\n",
    "$$ \\sum_{L = 0}^{x} \\sqrt{p_{L}}|L\\rangle_{n_s}|1\\rangle + \n",
    "\\sum_{L = x+1}^{2^{n_s}-1} \\sqrt{p_{L}}|L\\rangle_{n_s}|0\\rangle, $$\n",
    "\n",
    "where we directly assume the summed up loss values and corresponding probabilities instead of presenting the details of the uncertainty model.\n",
    "\n",
    "The CDF($x$) equals the probability of measuring $|1\\rangle$ in the objective qubit and QAE can be directly used to estimate it."
   ]
  },
  {
   "cell_type": "code",
   "execution_count": 18,
   "metadata": {},
   "outputs": [
    {
     "data": {
      "text/html": [
       "<pre style=\"word-wrap: normal;white-space: pre;background: #fff0;line-height: 1.1;font-family: &quot;Courier New&quot;,Courier,monospace\">                               \n",
       "  state_0: ──■──────────────■──\n",
       "             │              │  \n",
       "  state_1: ──┼────■─────────┼──\n",
       "             │  ┌─┴─┐┌───┐  │  \n",
       "compare_0: ──┼──┤ X ├┤ X ├──┼──\n",
       "           ┌─┴─┐└─┬─┘└───┘┌─┴─┐\n",
       "     a0_0: ┤ X ├──■───────┤ X ├\n",
       "           └───┘          └───┘</pre>"
      ],
      "text/plain": [
       "                               \n",
       "  state_0: ──■──────────────■──\n",
       "             │              │  \n",
       "  state_1: ──┼────■─────────┼──\n",
       "             │  ┌─┴─┐┌───┐  │  \n",
       "compare_0: ──┼──┤ X ├┤ X ├──┼──\n",
       "           ┌─┴─┐└─┬─┘└───┘┌─┴─┐\n",
       "     a0_0: ┤ X ├──■───────┤ X ├\n",
       "           └───┘          └───┘"
      ]
     },
     "execution_count": 18,
     "metadata": {},
     "output_type": "execute_result"
    }
   ],
   "source": [
    "# set x value to estimate the CDF\n",
    "x_eval = 2\n",
    "# Documentation https://qiskit.org/documentation/stubs/qiskit.circuit.library.IntegerComparator.html\n",
    "comparator = IntegerComparator(agg.num_sum_qubits,  value=x_eval + 1,geq=False)\n",
    "comparator.draw()"
   ]
  },
  {
   "cell_type": "code",
   "execution_count": 19,
   "metadata": {},
   "outputs": [
    {
     "data": {
      "text/html": [
       "<pre style=\"word-wrap: normal;white-space: pre;background: #fff0;line-height: 1.1;font-family: &quot;Courier New&quot;,Courier,monospace\">             ┌───────┐┌────────┐        \n",
       "    state_0: ┤0      ├┤0       ├────────\n",
       "             │       ││        │        \n",
       "    state_1: ┤1      ├┤1       ├────────\n",
       "             │  P(X) ││        │        \n",
       "    state_2: ┤2      ├┤2       ├────────\n",
       "             │       ││        │        \n",
       "    state_3: ┤3      ├┤3       ├────────\n",
       "             └───────┘│  adder │┌──────┐\n",
       "objective_0: ─────────┤        ├┤2     ├\n",
       "                      │        ││      │\n",
       "      sum_0: ─────────┤4       ├┤0     ├\n",
       "                      │        ││  cmp │\n",
       "      sum_1: ─────────┤5       ├┤1     ├\n",
       "                      │        ││      │\n",
       "    carry_0: ─────────┤6       ├┤3     ├\n",
       "                      └────────┘└──────┘</pre>"
      ],
      "text/plain": [
       "             ┌───────┐┌────────┐        \n",
       "    state_0: ┤0      ├┤0       ├────────\n",
       "             │       ││        │        \n",
       "    state_1: ┤1      ├┤1       ├────────\n",
       "             │  P(X) ││        │        \n",
       "    state_2: ┤2      ├┤2       ├────────\n",
       "             │       ││        │        \n",
       "    state_3: ┤3      ├┤3       ├────────\n",
       "             └───────┘│  adder │┌──────┐\n",
       "objective_0: ─────────┤        ├┤2     ├\n",
       "                      │        ││      │\n",
       "      sum_0: ─────────┤4       ├┤0     ├\n",
       "                      │        ││  cmp │\n",
       "      sum_1: ─────────┤5       ├┤1     ├\n",
       "                      │        ││      │\n",
       "    carry_0: ─────────┤6       ├┤3     ├\n",
       "                      └────────┘└──────┘"
      ]
     },
     "execution_count": 19,
     "metadata": {},
     "output_type": "execute_result"
    }
   ],
   "source": [
    "def get_cdf_circuit(x_eval):\n",
    "    # define the registers for convenience and readability\n",
    "    qr_state = QuantumRegister(u.num_qubits, 'state')\n",
    "    qr_sum = QuantumRegister(agg.num_sum_qubits, 'sum')\n",
    "    qr_carry = QuantumRegister(agg.num_carry_qubits, 'carry')\n",
    "    qr_obj = QuantumRegister(1, 'objective')\n",
    "    qr_compare = QuantumRegister(1, 'compare')\n",
    "\n",
    "    # define the circuit\n",
    "    state_preparation = QuantumCircuit(qr_state, qr_obj, qr_sum, qr_carry, name='A')\n",
    "\n",
    "    # load the random variable\n",
    "    state_preparation.append(u, qr_state)\n",
    "\n",
    "    # aggregate\n",
    "    state_preparation.append(agg, qr_state[:] + qr_sum[:] + qr_carry[:])\n",
    "\n",
    "    # comparator objective function\n",
    "    comparator = IntegerComparator(agg.num_sum_qubits, x_eval + 1, geq=False)\n",
    "    state_preparation.append(comparator, qr_sum[:] + qr_obj[:] + qr_carry[:])\n",
    "\n",
    "    # uncompute aggregation\n",
    "    state_preparation.append(agg.inverse(), qr_state[:] + qr_sum[:] + qr_carry[:])\n",
    "    \n",
    "    return state_preparation\n",
    "    \n",
    "x_eval = 2\n",
    "\n",
    "state_preparation = get_cdf_circuit(x_eval)\n",
    "state_preparation.draw()"
   ]
  },
  {
   "cell_type": "markdown",
   "metadata": {},
   "source": [
    "### Exercise 3) Use all the avaliables QAE methods for computing CDF for x_eval = 2"
   ]
  },
  {
   "cell_type": "markdown",
   "metadata": {},
   "source": [
    "(15 minutes)"
   ]
  },
  {
   "cell_type": "markdown",
   "metadata": {},
   "source": [
    "Iterative Quantum Amplitude estimation"
   ]
  },
  {
   "cell_type": "code",
   "execution_count": null,
   "metadata": {},
   "outputs": [],
   "source": [
    "# set target precision and confidence level\n",
    "epsilon = 0.01\n",
    "alpha = 0.05\n",
    "# Code Here ############################\n",
    "\n",
    "\n",
    "#########################################\n",
    "# print results\n",
    "conf_int = np.array(result_cdf['confidence_interval'])\n",
    "print('Estimated value:\\t%.4f' % result_cdf['estimation'])\n",
    "print('Confidence interval: \\t[%.4f, %.4f]' % tuple(conf_int))"
   ]
  },
  {
   "cell_type": "markdown",
   "metadata": {},
   "source": [
    "Canonical Quantum Amplitude Estimation"
   ]
  },
  {
   "cell_type": "code",
   "execution_count": null,
   "metadata": {},
   "outputs": [],
   "source": [
    "# Code Here ############################\n",
    "\n",
    "\n",
    "#########################################\n",
    "# print results\n",
    "conf_int = np.array(result_cdf['confidence_interval'])\n",
    "print('Estimated value:\\t%.4f' % result_cdf['estimation'])\n",
    "print('Confidence interval: \\t[%.4f, %.4f]' % tuple(conf_int))"
   ]
  },
  {
   "cell_type": "markdown",
   "metadata": {},
   "source": [
    "Maximun Likelihood Quantum Amplitude Estimation"
   ]
  },
  {
   "cell_type": "code",
   "execution_count": null,
   "metadata": {},
   "outputs": [],
   "source": [
    "# Code Here ############################\n",
    "\n",
    "\n",
    "#########################################\n",
    "# print results\n",
    "conf_int = np.array(result_cdf['confidence_interval'])\n",
    "print('Estimated value:\\t%.4f' % result_cdf['estimation'])\n",
    "print('Confidence interval: \\t[%.4f, %.4f]' % tuple(conf_int))"
   ]
  },
  {
   "cell_type": "markdown",
   "metadata": {},
   "source": [
    "#### Solution"
   ]
  },
  {
   "cell_type": "markdown",
   "metadata": {},
   "source": [
    "Iterative Quantum Amplitude Estimation"
   ]
  },
  {
   "cell_type": "code",
   "execution_count": 21,
   "metadata": {},
   "outputs": [
    {
     "name": "stdout",
     "output_type": "stream",
     "text": [
      "Estimated value:\t0.9593\n",
      "Confidence interval: \t[0.9584, 0.9602]\n"
     ]
    }
   ],
   "source": [
    "# set target precision and confidence level\n",
    "epsilon = 0.01\n",
    "alpha = 0.05\n",
    "\n",
    "# construct amplitude estimation \n",
    "ae_cdf = IterativeAmplitudeEstimation(state_preparation=state_preparation,\n",
    "                                      epsilon=epsilon, alpha=alpha,\n",
    "                                      objective_qubits=[len(qr_state)])\n",
    "result_cdf = ae_cdf.run(quantum_instance=Aer.get_backend('qasm_simulator'), shots=100)\n",
    "\n",
    "# print results\n",
    "conf_int = np.array(result_cdf['confidence_interval'])\n",
    "print('Estimated value:\\t%.4f' % result_cdf['estimation'])\n",
    "print('Confidence interval: \\t[%.4f, %.4f]' % tuple(conf_int))"
   ]
  },
  {
   "cell_type": "markdown",
   "metadata": {},
   "source": [
    "Canonical Quantum Amplitude Estimation"
   ]
  },
  {
   "cell_type": "code",
   "execution_count": 49,
   "metadata": {},
   "outputs": [
    {
     "name": "stdout",
     "output_type": "stream",
     "text": [
      "Estimated value:\t0.9590\n",
      "Confidence interval: \t[0.9580, 0.9600]\n"
     ]
    }
   ],
   "source": [
    "# set target precision and confidence level\n",
    "epsilon = 0.01\n",
    "alpha = 0.05\n",
    "\n",
    "# construct amplitude estimation \n",
    "ae_cdf = IterativeAmplitudeEstimation(state_preparation=state_preparation,\n",
    "                                      epsilon=epsilon, alpha=alpha,\n",
    "                                      objective_qubits=[len(qr_state)])\n",
    "result_cdf = ae_cdf.run(quantum_instance=Aer.get_backend('qasm_simulator'), shots=100)\n",
    "\n",
    "# print results\n",
    "conf_int = np.array(result_cdf['confidence_interval'])\n",
    "print('Estimated value:\\t%.4f' % result_cdf['estimation'])\n",
    "print('Confidence interval: \\t[%.4f, %.4f]' % tuple(conf_int))"
   ]
  },
  {
   "cell_type": "markdown",
   "metadata": {},
   "source": [
    "Maximun likelihood Quantum Amplitude Estimation"
   ]
  },
  {
   "cell_type": "code",
   "execution_count": 50,
   "metadata": {},
   "outputs": [
    {
     "name": "stdout",
     "output_type": "stream",
     "text": [
      "Estimated value:\t0.9595\n",
      "Confidence interval: \t[0.9568, 0.9621]\n"
     ]
    }
   ],
   "source": [
    "# set target precision and confidence level\n",
    "epsilon = 0.01\n",
    "alpha = 0.05\n",
    "\n",
    "# construct amplitude estimation \n",
    "ae_cdf = IterativeAmplitudeEstimation(state_preparation=state_preparation,\n",
    "                                      epsilon=epsilon, alpha=alpha,\n",
    "                                      objective_qubits=[len(qr_state)])\n",
    "result_cdf = ae_cdf.run(quantum_instance=Aer.get_backend('qasm_simulator'), shots=100)\n",
    "\n",
    "# print results\n",
    "conf_int = np.array(result_cdf['confidence_interval'])\n",
    "print('Estimated value:\\t%.4f' % result_cdf['estimation'])\n",
    "print('Confidence interval: \\t[%.4f, %.4f]' % tuple(conf_int))"
   ]
  },
  {
   "cell_type": "markdown",
   "metadata": {},
   "source": [
    "### 4) QAE for computing Value at Risk\n",
    "\n",
    "In the following we use a bisection search and QAE to efficiently evaluate the CDF to estimate the value at risk."
   ]
  },
  {
   "cell_type": "code",
   "execution_count": 44,
   "metadata": {},
   "outputs": [],
   "source": [
    "def run_ae_for_cdf(x_eval, epsilon=0.01, alpha=0.05, simulator='qasm_simulator'):\n",
    "\n",
    "    # construct amplitude estimation \n",
    "    state_preparation = get_cdf_circuit(x_eval)\n",
    "    ae_var = IterativeAmplitudeEstimation(state_preparation=state_preparation,\n",
    "                                          epsilon=epsilon, alpha=alpha,\n",
    "                                          objective_qubits=[len(qr_state)]) \n",
    "    result_var = ae_var.run(quantum_instance=Aer.get_backend(simulator), shots=100)\n",
    "    \n",
    "    return result_var['estimation']"
   ]
  },
  {
   "cell_type": "code",
   "execution_count": 45,
   "metadata": {},
   "outputs": [],
   "source": [
    "def bisection_search(objective, target_value, low_level, high_level, low_value=None, high_value=None):\n",
    "    \"\"\"\n",
    "    Determines the smallest level such that the objective value is still larger than the target\n",
    "    :param objective: objective function\n",
    "    :param target: target value\n",
    "    :param low_level: lowest level to be considered\n",
    "    :param high_level: highest level to be considered\n",
    "    :param low_value: value of lowest level (will be evaluated if set to None)\n",
    "    :param high_value: value of highest level (will be evaluated if set to None)\n",
    "    :return: dictionary with level, value, num_eval\n",
    "    \"\"\"\n",
    "\n",
    "    # check whether low and high values are given and evaluated them otherwise\n",
    "    print('--------------------------------------------------------------------')\n",
    "    print('start bisection search for target value %.3f' % target_value)\n",
    "    print('--------------------------------------------------------------------')\n",
    "    num_eval = 0\n",
    "    if low_value is None:\n",
    "        low_value = objective(low_level)\n",
    "        num_eval += 1\n",
    "    if high_value is None:\n",
    "        high_value = objective(high_level)\n",
    "        num_eval += 1    \n",
    "        \n",
    "    # check if low_value already satisfies the condition\n",
    "    if low_value > target_value:\n",
    "        return {'level': low_level, 'value': low_value, 'num_eval': num_eval, 'comment': 'returned low value'}\n",
    "    elif low_value == target_value:\n",
    "        return {'level': low_level, 'value': low_value, 'num_eval': num_eval, 'comment': 'success'}\n",
    "\n",
    "    # check if high_value is above target\n",
    "    if high_value < target_value:\n",
    "        return {'level': high_level, 'value': high_value, 'num_eval': num_eval, 'comment': 'returned low value'}\n",
    "    elif high_value == target_value:\n",
    "        return {'level': high_level, 'value': high_value, 'num_eval': num_eval, 'comment': 'success'}\n",
    "\n",
    "    # perform bisection search until\n",
    "    print('low_level    low_value    level    value    high_level    high_value')\n",
    "    print('--------------------------------------------------------------------')\n",
    "    while high_level - low_level > 1:\n",
    "\n",
    "        level = int(np.round((high_level + low_level) / 2.0))\n",
    "        num_eval += 1\n",
    "        value = objective(level)\n",
    "\n",
    "        print('%2d           %.3f        %2d       %.3f    %2d            %.3f' \\\n",
    "              % (low_level, low_value, level, value, high_level, high_value))\n",
    "\n",
    "        if value >= target_value:\n",
    "            high_level = level\n",
    "            high_value = value\n",
    "        else:\n",
    "            low_level = level\n",
    "            low_value = value\n",
    "\n",
    "    # return high value after bisection search\n",
    "    print('--------------------------------------------------------------------')\n",
    "    print('finished bisection search')\n",
    "    print('--------------------------------------------------------------------')\n",
    "    return {'level': high_level, 'value': high_value, 'num_eval': num_eval, 'comment': 'success'}"
   ]
  },
  {
   "cell_type": "code",
   "execution_count": 46,
   "metadata": {},
   "outputs": [
    {
     "name": "stdout",
     "output_type": "stream",
     "text": [
      "--------------------------------------------------------------------\n",
      "start bisection search for target value 0.950\n",
      "--------------------------------------------------------------------\n",
      "low_level    low_value    level    value    high_level    high_value\n",
      "--------------------------------------------------------------------\n",
      "-1           0.000         1       0.757     3            1.000\n",
      " 1           0.757         2       0.959     3            1.000\n",
      "--------------------------------------------------------------------\n",
      "finished bisection search\n",
      "--------------------------------------------------------------------\n"
     ]
    }
   ],
   "source": [
    "# run bisection search to determine VaR\n",
    "alpha = 0.05\n",
    "objective = lambda x: run_ae_for_cdf(x)\n",
    "bisection_result = bisection_search(objective, 1-alpha, min(losses)-1, max(losses), low_value=0, high_value=1)\n",
    "var = bisection_result['level']"
   ]
  },
  {
   "cell_type": "code",
   "execution_count": 47,
   "metadata": {},
   "outputs": [
    {
     "name": "stdout",
     "output_type": "stream",
     "text": [
      "Estimated Value at Risk:  2\n",
      "Estimated Probability:    0.959\n"
     ]
    }
   ],
   "source": [
    "print('Estimated Value at Risk: %2d' % var)\n",
    "print('Estimated Probability:    %.3f' % bisection_result['value'])"
   ]
  },
  {
   "cell_type": "markdown",
   "metadata": {},
   "source": [
    "#### Computing the exact VaR for comparing with the obtained results"
   ]
  },
  {
   "cell_type": "code",
   "execution_count": 51,
   "metadata": {},
   "outputs": [],
   "source": [
    "# analyze uncertainty circuit and determine exact solutions\n",
    "p_z = np.zeros(2**n_z)\n",
    "p_default = np.zeros(K)\n",
    "values = []\n",
    "probabilities = []\n",
    "num_qubits = u.num_qubits\n",
    "for i, a in enumerate(job.result().get_statevector()):\n",
    "    \n",
    "    # get binary representation\n",
    "    b = ('{0:0%sb}' % num_qubits).format(i)\n",
    "    prob = np.abs(a)**2\n",
    "\n",
    "    # extract value of Z and corresponding probability    \n",
    "    i_normal = int(b[-n_z:], 2)\n",
    "    p_z[i_normal] += prob\n",
    "\n",
    "    # determine overall default probability for k \n",
    "    loss = 0\n",
    "    for k in range(K):\n",
    "        if b[K - k - 1] == '1':\n",
    "            p_default[k] += prob\n",
    "            loss += lgd[k]\n",
    "    values += [loss]\n",
    "    probabilities += [prob]   \n",
    "\n",
    "values = np.array(values)\n",
    "probabilities = np.array(probabilities)\n",
    "    \n",
    "expected_loss = np.dot(values, probabilities)\n",
    "\n",
    "losses = np.sort(np.unique(values))\n",
    "pdf = np.zeros(len(losses))\n",
    "for i, v in enumerate(losses):\n",
    "    pdf[i] += sum(probabilities[values == v])\n",
    "cdf = np.cumsum(pdf)\n",
    "\n",
    "i_var = np.argmax(cdf >= 1-alpha)\n",
    "exact_var = losses[i_var]"
   ]
  }
 ],
 "metadata": {
  "kernelspec": {
   "display_name": "Python 3",
   "language": "python",
   "name": "python3"
  },
  "language_info": {
   "codemirror_mode": {
    "name": "ipython",
    "version": 3
   },
   "file_extension": ".py",
   "mimetype": "text/x-python",
   "name": "python",
   "nbconvert_exporter": "python",
   "pygments_lexer": "ipython3",
   "version": "3.7.6"
  }
 },
 "nbformat": 4,
 "nbformat_minor": 4
}
